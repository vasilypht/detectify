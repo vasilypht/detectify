{
 "cells": [
  {
   "cell_type": "code",
   "execution_count": 12,
   "metadata": {},
   "outputs": [],
   "source": [
    "from pathlib import Path\n",
    "\n",
    "import pandas as pd\n",
    "from sklearn.model_selection import train_test_split\n",
    "from langchain.text_splitter import RecursiveCharacterTextSplitter\n",
    "from transformers import AutoTokenizer, LongformerTokenizerFast\n",
    "from tqdm import tqdm"
   ]
  },
  {
   "cell_type": "code",
   "execution_count": 13,
   "metadata": {},
   "outputs": [],
   "source": [
    "NOTEBOOKS_DIR = Path().resolve()\n",
    "PROJECT_DIR = NOTEBOOKS_DIR.parent\n",
    "DATA_DIR = PROJECT_DIR / 'data'\n",
    "DATASET_DIR = DATA_DIR / 'pe-machine-learning-dataset'\n",
    "REPORTS_DIR = DATASET_DIR / 'reports'\n",
    "RANDOM_STATE = 741"
   ]
  },
  {
   "cell_type": "code",
   "execution_count": 14,
   "metadata": {},
   "outputs": [],
   "source": [
    "import sys\n",
    "\n",
    "sys.path.append(str(PROJECT_DIR))"
   ]
  },
  {
   "cell_type": "code",
   "execution_count": 15,
   "metadata": {
    "collapsed": false,
    "jupyter": {
     "outputs_hidden": false
    }
   },
   "outputs": [],
   "source": [
    "df = pd.read_parquet(DATA_DIR / 'labeled_df.parquet')"
   ]
  },
  {
   "cell_type": "code",
   "execution_count": 5,
   "metadata": {},
   "outputs": [
    {
     "data": {
      "text/plain": [
       "(36988, 7)"
      ]
     },
     "execution_count": 5,
     "metadata": {},
     "output_type": "execute_result"
    }
   ],
   "source": [
    "df.shape"
   ]
  },
  {
   "cell_type": "code",
   "execution_count": 17,
   "metadata": {},
   "outputs": [
    {
     "data": {
      "text/plain": [
       "label\n",
       "malware    19856\n",
       "benign     17132\n",
       "Name: count, dtype: int64"
      ]
     },
     "execution_count": 17,
     "metadata": {},
     "output_type": "execute_result"
    }
   ],
   "source": [
    "df.label.value_counts()"
   ]
  },
  {
   "cell_type": "code",
   "execution_count": 6,
   "metadata": {},
   "outputs": [],
   "source": [
    "df_train, df_test = train_test_split(\n",
    "    df,\n",
    "    test_size=0.2,\n",
    "    random_state=RANDOM_STATE,\n",
    "    shuffle=True,\n",
    "    stratify=df.label,\n",
    ")\n",
    "\n",
    "df_train, df_valid = train_test_split(\n",
    "    df_train,\n",
    "    test_size=0.1,\n",
    "    random_state=RANDOM_STATE,\n",
    "    shuffle=True,\n",
    "    stratify=df_train.label,\n",
    ")"
   ]
  },
  {
   "cell_type": "code",
   "execution_count": 7,
   "metadata": {},
   "outputs": [],
   "source": [
    "df_train.reset_index(drop=True, inplace=True)\n",
    "df_valid.reset_index(drop=True, inplace=True)\n",
    "df_test.reset_index(drop=True, inplace=True)\n",
    "\n",
    "\n"
   ]
  },
  {
   "cell_type": "code",
   "execution_count": null,
   "metadata": {},
   "outputs": [],
   "source": [
    "df_train.to_parquet(DATA_DIR / 'df_train.parquet')\n",
    "df_valid.to_parquet(DATA_DIR / 'df_valid.parquet')\n",
    "df_test.to_parquet(DATA_DIR / 'df_test.parquet')"
   ]
  },
  {
   "cell_type": "code",
   "execution_count": 8,
   "metadata": {
    "collapsed": false,
    "jupyter": {
     "outputs_hidden": false
    }
   },
   "outputs": [],
   "source": [
    "#tokenizer = LongformerTokenizerFast.from_pretrained('allenai/longformer-base-4096')\n",
    "tokenizer = AutoTokenizer.from_pretrained('kazzand/ru-longformer-tiny-16384')"
   ]
  },
  {
   "cell_type": "code",
   "execution_count": 9,
   "metadata": {
    "collapsed": false,
    "jupyter": {
     "outputs_hidden": false
    }
   },
   "outputs": [],
   "source": [
    "text_splitter = RecursiveCharacterTextSplitter.from_huggingface_tokenizer(\n",
    "    tokenizer, chunk_size=10_240, chunk_overlap=4_096,\n",
    ")"
   ]
  },
  {
   "cell_type": "code",
   "execution_count": 10,
   "metadata": {},
   "outputs": [],
   "source": [
    "from detectify.extractors import VirusTotalFeatureExtractor"
   ]
  },
  {
   "cell_type": "code",
   "execution_count": 11,
   "metadata": {
    "collapsed": false,
    "jupyter": {
     "outputs_hidden": false
    }
   },
   "outputs": [
    {
     "name": "stderr",
     "output_type": "stream",
     "text": [
      "100%|█████████████████████████████████████████████████████████████████████████████████████████████████████████| 26631/26631 [14:03<00:00, 31.58it/s]\n",
      "100%|███████████████████████████████████████████████████████████████████████████████████████████████████████████| 2959/2959 [01:25<00:00, 34.61it/s]\n",
      "100%|███████████████████████████████████████████████████████████████████████████████████████████████████████████| 7398/7398 [03:28<00:00, 35.40it/s]\n"
     ]
    }
   ],
   "source": [
    "for _df, _filename in (\n",
    "    (df_train, 'df_train_chunks.parquet'),\n",
    "    (df_valid, 'df_valid_chunks.parquet'),\n",
    "    (df_test, 'df_test_chunks.parquet'),\n",
    "):\n",
    "    container_hash_text = {\n",
    "        'FILENAME': [],\n",
    "        'HASH': [],\n",
    "        'TEXT': [],\n",
    "        'LABEL': [],\n",
    "        'LABEL_ID': [],\n",
    "    }\n",
    "    \n",
    "    for idx, row in tqdm(_df.iterrows(), total=_df.shape[0]):\n",
    "        report_path = REPORTS_DIR / f'{row.sha256}.json'\n",
    "        \n",
    "        extractor = VirusTotalFeatureExtractor.from_json(report_path)\n",
    "        corpus = '\\n'.join(extractor.extract_all(error=None))\n",
    "        chunks = text_splitter.split_text(corpus)\n",
    "    \n",
    "        label = row.label\n",
    "        label_id = row.label_id\n",
    "    \n",
    "        container_hash_text['FILENAME'].extend([row.filename] * len(chunks))\n",
    "        container_hash_text['HASH'].extend([row.sha256] * len(chunks))\n",
    "        container_hash_text['TEXT'].extend(chunks)\n",
    "        container_hash_text['LABEL'].extend([label] * len(chunks))\n",
    "        container_hash_text['LABEL_ID'].extend([label_id] * len(chunks))\n",
    "\n",
    "    _df = pd.DataFrame(container_hash_text)\n",
    "    _df.to_parquet(DATA_DIR / _filename)\n"
   ]
  },
  {
   "cell_type": "code",
   "execution_count": null,
   "metadata": {},
   "outputs": [],
   "source": []
  }
 ],
 "metadata": {
  "kernelspec": {
   "display_name": "Python 3 (ipykernel)",
   "language": "python",
   "name": "python3"
  },
  "language_info": {
   "codemirror_mode": {
    "name": "ipython",
    "version": 3
   },
   "file_extension": ".py",
   "mimetype": "text/x-python",
   "name": "python",
   "nbconvert_exporter": "python",
   "pygments_lexer": "ipython3",
   "version": "3.10.13"
  }
 },
 "nbformat": 4,
 "nbformat_minor": 4
}
