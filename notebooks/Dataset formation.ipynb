{
 "cells": [
  {
   "cell_type": "code",
   "execution_count": 15,
   "metadata": {
    "collapsed": true
   },
   "outputs": [],
   "source": [
    "from pathlib import Path\n",
    "\n",
    "import pandas as pd\n",
    "from sklearn.model_selection import train_test_split"
   ]
  },
  {
   "cell_type": "code",
   "execution_count": 16,
   "outputs": [],
   "source": [
    "NOTEBOOKS_DIR = Path().resolve()\n",
    "PROJECT_DIR = NOTEBOOKS_DIR.parent\n",
    "DATA_DIR = PROJECT_DIR / 'data'\n",
    "\n",
    "REPORTS_DIR = DATA_DIR / 'reports'\n",
    "MALWARE_REPORTS_DIR = REPORTS_DIR / 'malware'\n",
    "BENIGN_REPORTS_DIR = REPORTS_DIR / 'benign'\n",
    "\n",
    "EXE_DIR = DATA_DIR / 'exe'\n",
    "MALWARE_EXE_DIR = EXE_DIR / 'malware'\n",
    "BENIGN_EXE_DIR = EXE_DIR / 'malware'\n",
    "\n",
    "RANDOM_STATE = 741"
   ],
   "metadata": {
    "collapsed": false
   }
  },
  {
   "cell_type": "code",
   "execution_count": 9,
   "outputs": [],
   "source": [
    "malware_reports = list(map(lambda s: s.stem, MALWARE_REPORTS_DIR.glob('*')))\n",
    "benign_reports = list(map(lambda s: s.stem, BENIGN_REPORTS_DIR.glob('*')))"
   ],
   "metadata": {
    "collapsed": false
   }
  },
  {
   "cell_type": "code",
   "execution_count": 10,
   "outputs": [],
   "source": [
    "df_malware = pd.DataFrame(\n",
    "    {\n",
    "        'HASH': malware_reports,\n",
    "        'LABEL': 'malware',\n",
    "        'LABEL_ID': 1,\n",
    "    }\n",
    ")\n",
    "\n",
    "df_benign = pd.DataFrame(\n",
    "    {\n",
    "        'HASH': benign_reports,\n",
    "        'LABEL': 'benign',\n",
    "        'LABEL_ID': 0,\n",
    "    }\n",
    ")"
   ],
   "metadata": {
    "collapsed": false
   }
  },
  {
   "cell_type": "code",
   "execution_count": 12,
   "outputs": [],
   "source": [
    "df = pd.concat([df_malware, df_benign])"
   ],
   "metadata": {
    "collapsed": false
   }
  },
  {
   "cell_type": "code",
   "execution_count": 13,
   "outputs": [
    {
     "data": {
      "text/plain": "(1997, 3)"
     },
     "execution_count": 13,
     "metadata": {},
     "output_type": "execute_result"
    }
   ],
   "source": [
    "df.shape"
   ],
   "metadata": {
    "collapsed": false
   }
  },
  {
   "cell_type": "code",
   "execution_count": 17,
   "outputs": [],
   "source": [
    "df_train, df_test = train_test_split(\n",
    "    df,\n",
    "    test_size=0.2,\n",
    "    random_state=RANDOM_STATE,\n",
    "    shuffle=True,\n",
    "    stratify=df.LABEL_ID,\n",
    ")\n",
    "\n",
    "df_train, df_valid = train_test_split(\n",
    "    df_train,\n",
    "    test_size=0.1,\n",
    "    random_state=RANDOM_STATE,\n",
    "    shuffle=True,\n",
    "    stratify=df_train.LABEL_ID,\n",
    ")"
   ],
   "metadata": {
    "collapsed": false
   }
  },
  {
   "cell_type": "code",
   "execution_count": null,
   "outputs": [],
   "source": [
    "df_train.reset_index(drop=True, inplace=True)"
   ],
   "metadata": {
    "collapsed": false
   }
  },
  {
   "cell_type": "code",
   "execution_count": 19,
   "outputs": [],
   "source": [
    "for _df in df_train, df_valid, df_test:\n",
    "    _df.reset_index(drop=True, inplace=True)"
   ],
   "metadata": {
    "collapsed": false
   }
  },
  {
   "cell_type": "code",
   "execution_count": 21,
   "outputs": [],
   "source": [
    "df_train.to_parquet(DATA_DIR / 'df_train.parquet')\n",
    "df_valid.to_parquet(DATA_DIR / 'df_valid.parquet')\n",
    "df_test.to_parquet(DATA_DIR / 'df_test.parquet')"
   ],
   "metadata": {
    "collapsed": false
   }
  },
  {
   "cell_type": "code",
   "execution_count": null,
   "outputs": [],
   "source": [],
   "metadata": {
    "collapsed": false
   }
  }
 ],
 "metadata": {
  "kernelspec": {
   "display_name": "Python 3",
   "language": "python",
   "name": "python3"
  },
  "language_info": {
   "codemirror_mode": {
    "name": "ipython",
    "version": 2
   },
   "file_extension": ".py",
   "mimetype": "text/x-python",
   "name": "python",
   "nbconvert_exporter": "python",
   "pygments_lexer": "ipython2",
   "version": "2.7.6"
  }
 },
 "nbformat": 4,
 "nbformat_minor": 0
}
