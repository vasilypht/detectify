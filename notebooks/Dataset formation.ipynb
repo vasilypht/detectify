{
 "cells": [
  {
   "cell_type": "code",
   "execution_count": 1,
   "metadata": {},
   "outputs": [],
   "source": [
    "from pathlib import Path\n",
    "\n",
    "import pandas as pd\n",
    "from sklearn.model_selection import train_test_split\n",
    "from langchain.text_splitter import RecursiveCharacterTextSplitter\n",
    "from transformers import AutoTokenizer, LongformerTokenizerFast\n",
    "from tqdm import tqdm"
   ]
  },
  {
   "cell_type": "code",
   "execution_count": 2,
   "metadata": {},
   "outputs": [],
   "source": [
    "NOTEBOOKS_DIR = Path().resolve()\n",
    "PROJECT_DIR = NOTEBOOKS_DIR.parent\n",
    "DATA_DIR = PROJECT_DIR / 'data'"
   ]
  },
  {
   "cell_type": "code",
   "execution_count": 3,
   "metadata": {},
   "outputs": [],
   "source": [
    "import sys\n",
    "\n",
    "sys.path.append(str(PROJECT_DIR))"
   ]
  },
  {
   "cell_type": "code",
   "execution_count": 4,
   "metadata": {},
   "outputs": [],
   "source": [
    "from src import parsers\n",
    "from src.extractor import VirusTotalFeatureExtractor"
   ]
  },
  {
   "cell_type": "code",
   "execution_count": 5,
   "metadata": {
    "collapsed": false,
    "jupyter": {
     "outputs_hidden": false
    }
   },
   "outputs": [],
   "source": [
    "REPORTS_DIR = DATA_DIR / 'reports'\n",
    "MALWARE_REPORTS_DIR = REPORTS_DIR / 'malware'\n",
    "BENIGN_REPORTS_DIR = REPORTS_DIR / 'benign'\n",
    "\n",
    "PE_DIR = DATA_DIR / 'pe'\n",
    "MALWARE_EXE_DIR = PE_DIR / 'malware'\n",
    "BENIGN_EXE_DIR = PE_DIR / 'malware'\n",
    "\n",
    "RANDOM_STATE = 741"
   ]
  },
  {
   "cell_type": "code",
   "execution_count": null,
   "metadata": {
    "collapsed": false,
    "jupyter": {
     "outputs_hidden": false
    }
   },
   "outputs": [],
   "source": []
  },
  {
   "cell_type": "code",
   "execution_count": 6,
   "metadata": {
    "collapsed": false,
    "jupyter": {
     "outputs_hidden": false
    }
   },
   "outputs": [],
   "source": [
    "malware_reports = list(map(lambda s: s.stem, MALWARE_REPORTS_DIR.glob('*')))\n",
    "benign_reports = list(map(lambda s: s.stem, BENIGN_REPORTS_DIR.glob('*')))"
   ]
  },
  {
   "cell_type": "code",
   "execution_count": 7,
   "metadata": {
    "collapsed": false,
    "jupyter": {
     "outputs_hidden": false
    }
   },
   "outputs": [],
   "source": [
    "df_malware = pd.DataFrame(\n",
    "    {\n",
    "        'HASH': malware_reports,\n",
    "        'LABEL': 'malware',\n",
    "        'LABEL_ID': 1,\n",
    "    }\n",
    ")\n",
    "\n",
    "df_benign = pd.DataFrame(\n",
    "    {\n",
    "        'HASH': benign_reports,\n",
    "        'LABEL': 'benign',\n",
    "        'LABEL_ID': 0,\n",
    "    }\n",
    ")"
   ]
  },
  {
   "cell_type": "code",
   "execution_count": 8,
   "metadata": {
    "collapsed": false,
    "jupyter": {
     "outputs_hidden": false
    }
   },
   "outputs": [],
   "source": [
    "df = pd.concat([df_malware, df_benign])"
   ]
  },
  {
   "cell_type": "code",
   "execution_count": 9,
   "metadata": {
    "collapsed": false,
    "jupyter": {
     "outputs_hidden": false
    }
   },
   "outputs": [
    {
     "data": {
      "text/plain": [
       "(6124, 3)"
      ]
     },
     "execution_count": 9,
     "metadata": {},
     "output_type": "execute_result"
    }
   ],
   "source": [
    "df.shape"
   ]
  },
  {
   "cell_type": "code",
   "execution_count": 10,
   "metadata": {},
   "outputs": [],
   "source": [
    "df_train, df_test = train_test_split(\n",
    "    df,\n",
    "    test_size=0.2,\n",
    "    random_state=RANDOM_STATE,\n",
    "    shuffle=True,\n",
    "    stratify=df.LABEL_ID,\n",
    ")\n",
    "\n",
    "df_train, df_valid = train_test_split(\n",
    "    df_train,\n",
    "    test_size=0.1,\n",
    "    random_state=RANDOM_STATE,\n",
    "    shuffle=True,\n",
    "    stratify=df_train.LABEL_ID,\n",
    ")"
   ]
  },
  {
   "cell_type": "code",
   "execution_count": null,
   "metadata": {},
   "outputs": [],
   "source": []
  },
  {
   "cell_type": "code",
   "execution_count": 11,
   "metadata": {
    "collapsed": false,
    "jupyter": {
     "outputs_hidden": false
    }
   },
   "outputs": [
    {
     "name": "stderr",
     "output_type": "stream",
     "text": [
      "Special tokens have been added in the vocabulary, make sure the associated word embeddings are fine-tuned or trained.\n"
     ]
    }
   ],
   "source": [
    "tokenizer = LongformerTokenizerFast.from_pretrained('kazzand/ru-longformer-tiny-16384')"
   ]
  },
  {
   "cell_type": "code",
   "execution_count": 12,
   "metadata": {
    "collapsed": false,
    "jupyter": {
     "outputs_hidden": false
    }
   },
   "outputs": [],
   "source": [
    "text_splitter = RecursiveCharacterTextSplitter.from_huggingface_tokenizer(\n",
    "    tokenizer, chunk_size=16_384, chunk_overlap=8_192,\n",
    ")"
   ]
  },
  {
   "cell_type": "code",
   "execution_count": 13,
   "metadata": {
    "collapsed": false,
    "jupyter": {
     "outputs_hidden": false
    }
   },
   "outputs": [],
   "source": [
    "def extract_texts(extractor) -> list[str]:\n",
    "    texts = []\n",
    "\n",
    "    texts.extend(parsers.MagicParser().transform(extractor.magic))\n",
    "    texts.extend(parsers.TypeTagParser().transform(extractor.type_tag))\n",
    "    texts.extend(parsers.TypeTagsParser().transform(extractor.type_tags))\n",
    "    texts.extend(parsers.DetectitEasyParser().transform(extractor.detectiteasy))\n",
    "    texts.extend(parsers.TypeExtensionParser().transform(extractor.type_extension))\n",
    "    texts.extend(parsers.ImportListParser().transform(extractor.import_list))\n",
    "    texts.extend(parsers.MitreAttackTechniquesParser().transform(extractor.mitre_attack_techniques))\n",
    "    texts.extend(parsers.SignatureMatchesParser().transform(extractor.signature_matches))\n",
    "    texts.extend(parsers.CommandExecutionsParser().transform(extractor.command_executions))\n",
    "    texts.extend(parsers.ProcessesTreeParser().transform(extractor.processes_tree))\n",
    "    texts.extend(parsers.ProcessesInjectedParser().transform(extractor.processes_injected))\n",
    "    texts.extend(parsers.ProcessesCreatedParser().transform(extractor.processes_created))\n",
    "    texts.extend(parsers.ProcessesTerminatedParser().transform(extractor.processes_terminated))\n",
    "    texts.extend(parsers.FilesOpenedParser().transform(extractor.files_opened))\n",
    "    texts.extend(parsers.FilesCopiedParser().transform(extractor.files_copied))\n",
    "    texts.extend(parsers.FilesDroppedParser().transform(extractor.files_dropped))\n",
    "    texts.extend(parsers.FilesWrittenParser().transform(extractor.files_written))\n",
    "    texts.extend(parsers.FilesAttributeChangedParser().transform(extractor.files_attribute_changed))\n",
    "    texts.extend(parsers.MutexesOpenedParser().transform(extractor.mutexes_opened))\n",
    "    texts.extend(parsers.MutexesCreatedParser().transform(extractor.mutexes_created))\n",
    "    texts.extend(parsers.ModulesLoadedParser().transform(extractor.modules_loaded))\n",
    "    texts.extend(parsers.RegistryKeysOpenedParser().transform(extractor.registry_keys_opened))\n",
    "    texts.extend(parsers.RegistryKeysSetParser().transform(extractor.registry_keys_set))\n",
    "    texts.extend(parsers.RegistryKeysDeletedParser().transform(extractor.registry_keys_deleted))\n",
    "    texts.extend(parsers.IpTrafficParser().transform(extractor.ip_traffic))\n",
    "    texts.extend(parsers.DNSLookupsParser().transform(extractor.dns_lookups))\n",
    "    texts.extend(parsers.ServicesStartedParser().transform(extractor.services_started))\n",
    "    texts.extend(parsers.ServicesOpenedParser().transform(extractor.services_opened))\n",
    "    texts.extend(parsers.CallsHighlightedParser().transform(extractor.calls_highlighted))\n",
    "    texts.extend(parsers.HTTPConversationsParser().transform(extractor.http_conversations))\n",
    "    texts.extend(parsers.SignalsHookedParser().transform(extractor.signals_hooked))\n",
    "    texts.extend(parsers.WindowsSearchedParser().transform(extractor.windows_searched))\n",
    "    return texts"
   ]
  },
  {
   "cell_type": "code",
   "execution_count": null,
   "metadata": {
    "collapsed": false,
    "jupyter": {
     "outputs_hidden": false
    }
   },
   "outputs": [],
   "source": []
  },
  {
   "cell_type": "code",
   "execution_count": null,
   "metadata": {},
   "outputs": [],
   "source": []
  },
  {
   "cell_type": "code",
   "execution_count": 14,
   "metadata": {
    "collapsed": false,
    "jupyter": {
     "outputs_hidden": false
    }
   },
   "outputs": [
    {
     "name": "stderr",
     "output_type": "stream",
     "text": [
      "  4%|████▋                                                                                                         | 186/4409 [00:13<07:11,  9.80it/s]Token indices sequence length is longer than the specified maximum sequence length for this model (20205 > 16384). Running this sequence through the model will result in indexing errors\n",
      "100%|█████████████████████████████████████████████████████████████████████████████████████████████████████████████| 4409/4409 [04:57<00:00, 14.80it/s]\n"
     ]
    }
   ],
   "source": [
    "container_hash_text = {\n",
    "    'malware': {\n",
    "        'text': [],\n",
    "        'hash': [],\n",
    "    },\n",
    "    'benign': {\n",
    "        'text': [],\n",
    "        'hash': [],\n",
    "    }\n",
    "}\n",
    "\n",
    "for idx in tqdm(range(df_train.shape[0])):\n",
    "    row = df_train.iloc[idx]\n",
    "    if row.LABEL == 'malware':\n",
    "        report_path = MALWARE_REPORTS_DIR\n",
    "    elif row.LABEL == 'benign':\n",
    "        report_path = BENIGN_REPORTS_DIR\n",
    "    else:\n",
    "        raise NotImplementedError()\n",
    "    \n",
    "    extractor = VirusTotalFeatureExtractor.from_json(report_path / f'{row.HASH}.json')\n",
    "    corpus = '\\n'.join(extract_texts(extractor))\n",
    "    chunks = text_splitter.split_text(corpus)\n",
    "\n",
    "    container_hash_text[row.LABEL]['text'].extend(chunks)\n",
    "    container_hash_text[row.LABEL]['hash'].extend([row.HASH] * len(chunks))\n"
   ]
  },
  {
   "cell_type": "code",
   "execution_count": 15,
   "metadata": {
    "collapsed": false,
    "jupyter": {
     "outputs_hidden": false
    }
   },
   "outputs": [],
   "source": [
    "df_train_malware_chunks = pd.DataFrame(\n",
    "    {\n",
    "        'HASH': container_hash_text['malware']['hash'],\n",
    "        'TEXT': container_hash_text['malware']['text'],\n",
    "        'LABEL': 'malware',\n",
    "        'LABEL_ID': 1,\n",
    "    }\n",
    ")\n",
    "\n",
    "df_train_benign_chunks = pd.DataFrame(\n",
    "    {\n",
    "        'HASH': container_hash_text['benign']['hash'],\n",
    "        'TEXT': container_hash_text['benign']['text'],\n",
    "        'LABEL': 'benign',\n",
    "        'LABEL_ID': 0,\n",
    "    }\n",
    ")"
   ]
  },
  {
   "cell_type": "code",
   "execution_count": 16,
   "metadata": {},
   "outputs": [],
   "source": [
    "df_train_chunks = pd.concat([df_train_malware_chunks, df_train_benign_chunks])"
   ]
  },
  {
   "cell_type": "code",
   "execution_count": 17,
   "metadata": {},
   "outputs": [],
   "source": [
    "for _ in range(10):\n",
    "    df_train_chunks = df_train_chunks.sample(frac=1, random_state=RANDOM_STATE, ignore_index=True)"
   ]
  },
  {
   "cell_type": "code",
   "execution_count": null,
   "metadata": {},
   "outputs": [],
   "source": []
  },
  {
   "cell_type": "code",
   "execution_count": 18,
   "metadata": {},
   "outputs": [
    {
     "name": "stderr",
     "output_type": "stream",
     "text": [
      "VALID: 100%|████████████████████████████████████████████████████████████████████████████████████████████████████████| 490/490 [00:31<00:00, 15.36it/s]\n"
     ]
    }
   ],
   "source": [
    "container_hash_text = {\n",
    "    'malware': {\n",
    "        'text': [],\n",
    "        'hash': [],\n",
    "    },\n",
    "    'benign': {\n",
    "        'text': [],\n",
    "        'hash': [],\n",
    "    }\n",
    "}\n",
    "\n",
    "for idx in tqdm(range(df_valid.shape[0]), 'VALID'):\n",
    "    row = df_train.iloc[idx]\n",
    "    if row.LABEL == 'malware':\n",
    "        report_path = MALWARE_REPORTS_DIR\n",
    "    elif row.LABEL == 'benign':\n",
    "        report_path = BENIGN_REPORTS_DIR\n",
    "    else:\n",
    "        raise NotImplementedError()\n",
    "    \n",
    "    extractor = VirusTotalFeatureExtractor.from_json(report_path / f'{row.HASH}.json')\n",
    "    corpus = '\\n'.join(extract_texts(extractor))\n",
    "    chunks = text_splitter.split_text(corpus)\n",
    "\n",
    "    container_hash_text[row.LABEL]['text'].extend(chunks)\n",
    "    container_hash_text[row.LABEL]['hash'].extend([row.HASH] * len(chunks))"
   ]
  },
  {
   "cell_type": "code",
   "execution_count": 19,
   "metadata": {},
   "outputs": [],
   "source": [
    "df_valid_malware_chunks = pd.DataFrame(\n",
    "    {\n",
    "        'HASH': container_hash_text['malware']['hash'],\n",
    "        'TEXT': container_hash_text['malware']['text'],\n",
    "        'LABEL': 'malware',\n",
    "        'LABEL_ID': 1,\n",
    "    }\n",
    ")\n",
    "\n",
    "df_valid_benign_chunks = pd.DataFrame(\n",
    "    {\n",
    "        'HASH': container_hash_text['benign']['hash'],\n",
    "        'TEXT': container_hash_text['benign']['text'],\n",
    "        'LABEL': 'benign',\n",
    "        'LABEL_ID': 0,\n",
    "    }\n",
    ")"
   ]
  },
  {
   "cell_type": "code",
   "execution_count": 20,
   "metadata": {},
   "outputs": [],
   "source": [
    "df_valid_chunks = pd.concat([df_valid_malware_chunks, df_valid_benign_chunks])"
   ]
  },
  {
   "cell_type": "code",
   "execution_count": 21,
   "metadata": {},
   "outputs": [],
   "source": [
    "for _ in range(10):\n",
    "    df_valid_chunks = df_valid_chunks.sample(frac=1, random_state=RANDOM_STATE, ignore_index=True)"
   ]
  },
  {
   "cell_type": "code",
   "execution_count": null,
   "metadata": {},
   "outputs": [],
   "source": []
  },
  {
   "cell_type": "code",
   "execution_count": null,
   "metadata": {},
   "outputs": [],
   "source": []
  },
  {
   "cell_type": "code",
   "execution_count": 22,
   "metadata": {},
   "outputs": [
    {
     "name": "stderr",
     "output_type": "stream",
     "text": [
      "TEST: 100%|███████████████████████████████████████████████████████████████████████████████████████████████████████| 1225/1225 [01:27<00:00, 13.93it/s]\n"
     ]
    }
   ],
   "source": [
    "container_hash_text = {\n",
    "    'malware': {\n",
    "        'text': [],\n",
    "        'hash': [],\n",
    "    },\n",
    "    'benign': {\n",
    "        'text': [],\n",
    "        'hash': [],\n",
    "    }\n",
    "}\n",
    "\n",
    "for idx in tqdm(range(df_test.shape[0]), 'TEST'):\n",
    "    row = df_train.iloc[idx]\n",
    "    if row.LABEL == 'malware':\n",
    "        report_path = MALWARE_REPORTS_DIR\n",
    "    elif row.LABEL == 'benign':\n",
    "        report_path = BENIGN_REPORTS_DIR\n",
    "    else:\n",
    "        raise NotImplementedError()\n",
    "    \n",
    "    extractor = VirusTotalFeatureExtractor.from_json(report_path / f'{row.HASH}.json')\n",
    "    corpus = '\\n'.join(extract_texts(extractor))\n",
    "    chunks = text_splitter.split_text(corpus)\n",
    "\n",
    "    container_hash_text[row.LABEL]['text'].extend(chunks)\n",
    "    container_hash_text[row.LABEL]['hash'].extend([row.HASH] * len(chunks))"
   ]
  },
  {
   "cell_type": "code",
   "execution_count": 23,
   "metadata": {},
   "outputs": [],
   "source": [
    "df_test_malware_chunks = pd.DataFrame(\n",
    "    {\n",
    "        'HASH': container_hash_text['malware']['hash'],\n",
    "        'TEXT': container_hash_text['malware']['text'],\n",
    "        'LABEL': 'malware',\n",
    "        'LABEL_ID': 1,\n",
    "    }\n",
    ")\n",
    "\n",
    "df_test_benign_chunks = pd.DataFrame(\n",
    "    {\n",
    "        'HASH': container_hash_text['benign']['hash'],\n",
    "        'TEXT': container_hash_text['benign']['text'],\n",
    "        'LABEL': 'benign',\n",
    "        'LABEL_ID': 0,\n",
    "    }\n",
    ")"
   ]
  },
  {
   "cell_type": "code",
   "execution_count": 24,
   "metadata": {},
   "outputs": [],
   "source": [
    "df_test_chunks = pd.concat([df_test_malware_chunks, df_test_benign_chunks])"
   ]
  },
  {
   "cell_type": "code",
   "execution_count": 25,
   "metadata": {},
   "outputs": [],
   "source": [
    "for _ in range(10):\n",
    "    df_test_chunks = df_test_chunks.sample(frac=1, random_state=RANDOM_STATE, ignore_index=True)"
   ]
  },
  {
   "cell_type": "code",
   "execution_count": null,
   "metadata": {},
   "outputs": [],
   "source": []
  },
  {
   "cell_type": "code",
   "execution_count": 26,
   "metadata": {
    "collapsed": false,
    "jupyter": {
     "outputs_hidden": false
    }
   },
   "outputs": [],
   "source": [
    "df_train_chunks.to_parquet(DATA_DIR / 'df_train_chunks.parquet')\n",
    "df_valid_chunks.to_parquet(DATA_DIR / 'df_valid_chunks.parquet')\n",
    "df_test_chunks.to_parquet(DATA_DIR / 'df_test_chunks.parquet')"
   ]
  },
  {
   "cell_type": "code",
   "execution_count": null,
   "metadata": {},
   "outputs": [],
   "source": []
  },
  {
   "cell_type": "code",
   "execution_count": null,
   "metadata": {},
   "outputs": [],
   "source": []
  },
  {
   "cell_type": "code",
   "execution_count": null,
   "metadata": {},
   "outputs": [],
   "source": []
  }
 ],
 "metadata": {
  "kernelspec": {
   "display_name": "Python 3 (ipykernel)",
   "language": "python",
   "name": "python3"
  },
  "language_info": {
   "codemirror_mode": {
    "name": "ipython",
    "version": 3
   },
   "file_extension": ".py",
   "mimetype": "text/x-python",
   "name": "python",
   "nbconvert_exporter": "python",
   "pygments_lexer": "ipython3",
   "version": "3.9.16"
  }
 },
 "nbformat": 4,
 "nbformat_minor": 4
}
