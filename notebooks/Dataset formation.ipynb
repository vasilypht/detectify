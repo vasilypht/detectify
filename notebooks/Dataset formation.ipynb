{
 "cells": [
  {
   "cell_type": "code",
   "execution_count": 12,
   "metadata": {},
   "outputs": [],
   "source": [
    "from pathlib import Path\n",
    "\n",
    "import pandas as pd\n",
    "from sklearn.model_selection import train_test_split\n",
    "from langchain.text_splitter import RecursiveCharacterTextSplitter\n",
    "from transformers import AutoTokenizer, LongformerTokenizerFast\n",
    "from tqdm import tqdm"
   ]
  },
  {
   "cell_type": "code",
   "execution_count": 13,
   "metadata": {},
   "outputs": [],
   "source": [
    "NOTEBOOKS_DIR = Path().resolve()\n",
    "PROJECT_DIR = NOTEBOOKS_DIR.parent\n",
    "DATA_DIR = PROJECT_DIR / 'data'\n",
    "DATASET_DIR = DATA_DIR / 'pe-machine-learning-dataset'\n",
    "REPORTS_DIR = DATASET_DIR / 'reports'\n",
    "RANDOM_STATE = 741"
   ]
  },
  {
   "cell_type": "code",
   "execution_count": 14,
   "metadata": {},
   "outputs": [],
   "source": [
    "import sys\n",
    "\n",
    "sys.path.append(str(PROJECT_DIR))"
   ]
  },
  {
   "cell_type": "code",
   "execution_count": 15,
   "metadata": {},
   "outputs": [],
   "source": [
    "from src import parsers\n",
    "from src.extractor import VirusTotalFeatureExtractor"
   ]
  },
  {
   "cell_type": "code",
   "execution_count": 16,
   "metadata": {
    "collapsed": false,
    "jupyter": {
     "outputs_hidden": false
    }
   },
   "outputs": [],
   "source": [
    "df = pd.read_parquet(DATA_DIR / 'dataset_with_reports.parquet')"
   ]
  },
  {
   "cell_type": "code",
   "execution_count": 17,
   "metadata": {
    "collapsed": false,
    "jupyter": {
     "outputs_hidden": false
    }
   },
   "outputs": [
    {
     "data": {
      "text/plain": [
       "(20362, 12)"
      ]
     },
     "execution_count": 17,
     "metadata": {},
     "output_type": "execute_result"
    }
   ],
   "source": [
    "df.shape"
   ]
  },
  {
   "cell_type": "code",
   "execution_count": 21,
   "metadata": {},
   "outputs": [
    {
     "data": {
      "text/plain": [
       "list\n",
       "Blacklist    10785\n",
       "Whitelist     9577\n",
       "Name: count, dtype: int64"
      ]
     },
     "execution_count": 21,
     "metadata": {},
     "output_type": "execute_result"
    }
   ],
   "source": [
    "df.list.value_counts()"
   ]
  },
  {
   "cell_type": "code",
   "execution_count": 7,
   "metadata": {},
   "outputs": [],
   "source": [
    "df_train, df_test = train_test_split(\n",
    "    df,\n",
    "    test_size=0.2,\n",
    "    random_state=RANDOM_STATE,\n",
    "    shuffle=True,\n",
    "    stratify=df.list,\n",
    ")\n",
    "\n",
    "df_train, df_valid = train_test_split(\n",
    "    df_train,\n",
    "    test_size=0.1,\n",
    "    random_state=RANDOM_STATE,\n",
    "    shuffle=True,\n",
    "    stratify=df_train.list,\n",
    ")"
   ]
  },
  {
   "cell_type": "code",
   "execution_count": null,
   "metadata": {},
   "outputs": [],
   "source": []
  },
  {
   "cell_type": "code",
   "execution_count": 8,
   "metadata": {
    "collapsed": false,
    "jupyter": {
     "outputs_hidden": false
    }
   },
   "outputs": [
    {
     "name": "stderr",
     "output_type": "stream",
     "text": [
      "Special tokens have been added in the vocabulary, make sure the associated word embeddings are fine-tuned or trained.\n"
     ]
    }
   ],
   "source": [
    "tokenizer = LongformerTokenizerFast.from_pretrained('kazzand/ru-longformer-tiny-16384')\n",
    "#tokenizer = LongformerTokenizerFast.from_pretrained('cointegrated/rubert-tiny2')"
   ]
  },
  {
   "cell_type": "code",
   "execution_count": 9,
   "metadata": {
    "collapsed": false,
    "jupyter": {
     "outputs_hidden": false
    }
   },
   "outputs": [],
   "source": [
    "text_splitter = RecursiveCharacterTextSplitter.from_huggingface_tokenizer(\n",
    "    tokenizer, chunk_size=10_240, chunk_overlap=5_120,\n",
    ")"
   ]
  },
  {
   "cell_type": "code",
   "execution_count": 10,
   "metadata": {
    "collapsed": false,
    "jupyter": {
     "outputs_hidden": false
    }
   },
   "outputs": [],
   "source": [
    "def extract_texts(extractor) -> list[str]:\n",
    "    texts = []\n",
    "    try:\n",
    "        texts.extend(parsers.MagicParser().transform(extractor.magic))\n",
    "    except:\n",
    "        pass\n",
    "    try:\n",
    "        texts.extend(parsers.TypeTagParser().transform(extractor.type_tag))\n",
    "    except:\n",
    "        pass\n",
    "    try:\n",
    "        texts.extend(parsers.TypeTagsParser().transform(extractor.type_tags))\n",
    "    except:\n",
    "        pass\n",
    "    try:\n",
    "        texts.extend(parsers.DetectitEasyParser().transform(extractor.detectiteasy))\n",
    "    except:\n",
    "        pass\n",
    "    try:\n",
    "        texts.extend(parsers.TypeExtensionParser().transform(extractor.type_extension))\n",
    "    except:\n",
    "        pass\n",
    "    try:\n",
    "        texts.extend(parsers.ImportListParser().transform(extractor.import_list))\n",
    "    except:\n",
    "        pass\n",
    "    try:    \n",
    "        texts.extend(parsers.MitreAttackTechniquesParser().transform(extractor.mitre_attack_techniques))\n",
    "    except:\n",
    "        pass\n",
    "    try:\n",
    "        texts.extend(parsers.SignatureMatchesParser().transform(extractor.signature_matches))\n",
    "    except:\n",
    "        pass\n",
    "    try:\n",
    "        texts.extend(parsers.CommandExecutionsParser().transform(extractor.command_executions))\n",
    "    except:\n",
    "        pass\n",
    "    try:\n",
    "        texts.extend(parsers.ProcessesTreeParser().transform(extractor.processes_tree))\n",
    "    except:\n",
    "        pass\n",
    "    try:\n",
    "        texts.extend(parsers.ProcessesInjectedParser().transform(extractor.processes_injected))\n",
    "    except:\n",
    "        pass\n",
    "    try:\n",
    "        texts.extend(parsers.ProcessesCreatedParser().transform(extractor.processes_created))\n",
    "    except:\n",
    "        pass\n",
    "    try:\n",
    "        texts.extend(parsers.ProcessesTerminatedParser().transform(extractor.processes_terminated))\n",
    "    except:\n",
    "        pass\n",
    "    try:\n",
    "        texts.extend(parsers.FilesOpenedParser().transform(extractor.files_opened))\n",
    "    except:\n",
    "        pass\n",
    "    try:\n",
    "        texts.extend(parsers.FilesCopiedParser().transform(extractor.files_copied))\n",
    "    except:\n",
    "        pass\n",
    "    try:\n",
    "        texts.extend(parsers.FilesDroppedParser().transform(extractor.files_dropped))\n",
    "    except:\n",
    "        pass\n",
    "    try:\n",
    "        texts.extend(parsers.FilesWrittenParser().transform(extractor.files_written))\n",
    "    except:\n",
    "        pass\n",
    "    try:\n",
    "        texts.extend(parsers.FilesAttributeChangedParser().transform(extractor.files_attribute_changed))\n",
    "    except:\n",
    "        pass\n",
    "    try:\n",
    "        texts.extend(parsers.MutexesOpenedParser().transform(extractor.mutexes_opened))\n",
    "    except:\n",
    "        pass\n",
    "    try:\n",
    "        texts.extend(parsers.MutexesCreatedParser().transform(extractor.mutexes_created))\n",
    "    except:\n",
    "        pass\n",
    "    try:\n",
    "        texts.extend(parsers.ModulesLoadedParser().transform(extractor.modules_loaded))\n",
    "    except:\n",
    "        pass\n",
    "    try:\n",
    "        texts.extend(parsers.RegistryKeysOpenedParser().transform(extractor.registry_keys_opened))\n",
    "    except:\n",
    "        pass\n",
    "    try:\n",
    "        texts.extend(parsers.RegistryKeysSetParser().transform(extractor.registry_keys_set))\n",
    "    except:\n",
    "        pass\n",
    "    try:\n",
    "        texts.extend(parsers.RegistryKeysDeletedParser().transform(extractor.registry_keys_deleted))\n",
    "    except:\n",
    "        pass\n",
    "    try:\n",
    "        texts.extend(parsers.IpTrafficParser().transform(extractor.ip_traffic))\n",
    "    except:\n",
    "        pass\n",
    "    try:\n",
    "        texts.extend(parsers.DNSLookupsParser().transform(extractor.dns_lookups))\n",
    "    except:\n",
    "        pass\n",
    "    try:\n",
    "        texts.extend(parsers.ServicesStartedParser().transform(extractor.services_started))\n",
    "    except:\n",
    "        pass\n",
    "    try:\n",
    "        texts.extend(parsers.ServicesOpenedParser().transform(extractor.services_opened))\n",
    "    except:\n",
    "        pass\n",
    "    try:\n",
    "        texts.extend(parsers.CallsHighlightedParser().transform(extractor.calls_highlighted))\n",
    "    except:\n",
    "        pass\n",
    "    try:\n",
    "        texts.extend(parsers.HTTPConversationsParser().transform(extractor.http_conversations))\n",
    "    except:\n",
    "        pass\n",
    "    try:\n",
    "        texts.extend(parsers.SignalsHookedParser().transform(extractor.signals_hooked))\n",
    "    except:\n",
    "        pass\n",
    "    try:\n",
    "        texts.extend(parsers.WindowsSearchedParser().transform(extractor.windows_searched))\n",
    "    except:\n",
    "        pass\n",
    "    return texts"
   ]
  },
  {
   "cell_type": "code",
   "execution_count": 11,
   "metadata": {
    "collapsed": false,
    "jupyter": {
     "outputs_hidden": false
    }
   },
   "outputs": [
    {
     "name": "stderr",
     "output_type": "stream",
     "text": [
      "  2%|██▎                                                                                                          | 307/14660 [00:17<11:59, 19.96it/s]Token indices sequence length is longer than the specified maximum sequence length for this model (19041 > 16384). Running this sequence through the model will result in indexing errors\n",
      "100%|███████████████████████████████████████████████████████████████████████████████████████████████████████████| 14660/14660 [15:21<00:00, 15.92it/s]\n",
      "100%|█████████████████████████████████████████████████████████████████████████████████████████████████████████████| 1629/1629 [01:36<00:00, 16.83it/s]\n",
      "100%|█████████████████████████████████████████████████████████████████████████████████████████████████████████████| 4073/4073 [04:11<00:00, 16.17it/s]\n"
     ]
    }
   ],
   "source": [
    "for _df, _filename in (\n",
    "    (df_train, 'df_train_chunks.parquet'),\n",
    "    (df_valid, 'df_valid_chunks.parquet'),\n",
    "    (df_test, 'df_test_chunks.parquet'),\n",
    "):\n",
    "    container_hash_text = {\n",
    "        'FILENAME': [],\n",
    "        'HASH': [],\n",
    "        'TEXT': [],\n",
    "        'LABEL': [],\n",
    "        'LABEL_ID': [],\n",
    "    }\n",
    "    \n",
    "    for idx, row in tqdm(_df.iterrows(), total=_df.shape[0]):\n",
    "        report_path = REPORTS_DIR / f'{row.sha256}.json'\n",
    "        \n",
    "        extractor = VirusTotalFeatureExtractor.from_json(report_path)\n",
    "        corpus = '\\n'.join(extract_texts(extractor))\n",
    "        chunks = text_splitter.split_text(corpus)\n",
    "    \n",
    "        label = 'malware' if row.list == 'Blacklist' else 'benign'\n",
    "        label_id = 1 if row.list == 'Blacklist' else 0\n",
    "    \n",
    "        container_hash_text['FILENAME'].extend([row.id] * len(chunks))\n",
    "        container_hash_text['HASH'].extend([row.sha256] * len(chunks))\n",
    "        container_hash_text['TEXT'].extend(chunks)\n",
    "        container_hash_text['LABEL'].extend([label] * len(chunks))\n",
    "        container_hash_text['LABEL_ID'].extend([label_id] * len(chunks))\n",
    "\n",
    "    _df = pd.DataFrame(container_hash_text)\n",
    "    for _ in range(10):\n",
    "        _df = _df.sample(frac=1, random_state=RANDOM_STATE, ignore_index=True)\n",
    "\n",
    "    _df.to_parquet(DATA_DIR / _filename)\n"
   ]
  },
  {
   "cell_type": "code",
   "execution_count": null,
   "metadata": {},
   "outputs": [],
   "source": []
  },
  {
   "cell_type": "code",
   "execution_count": null,
   "metadata": {},
   "outputs": [],
   "source": []
  }
 ],
 "metadata": {
  "kernelspec": {
   "display_name": "Python 3 (ipykernel)",
   "language": "python",
   "name": "python3"
  },
  "language_info": {
   "codemirror_mode": {
    "name": "ipython",
    "version": 3
   },
   "file_extension": ".py",
   "mimetype": "text/x-python",
   "name": "python",
   "nbconvert_exporter": "python",
   "pygments_lexer": "ipython3",
   "version": "3.9.16"
  }
 },
 "nbformat": 4,
 "nbformat_minor": 4
}
