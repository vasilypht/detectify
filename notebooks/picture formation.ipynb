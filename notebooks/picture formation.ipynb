{
 "cells": [
  {
   "cell_type": "code",
   "execution_count": 1,
   "id": "b35fd07e-191a-4b75-8f26-96909a1634a3",
   "metadata": {},
   "outputs": [],
   "source": [
    "from pathlib import Path\n",
    "\n",
    "import torch\n",
    "import pefile\n",
    "import pandas as pd\n",
    "from tqdm import tqdm"
   ]
  },
  {
   "cell_type": "code",
   "execution_count": 2,
   "id": "5105ee8e-f76f-4bf8-a66d-1952dde0d394",
   "metadata": {},
   "outputs": [],
   "source": [
    "NOTEBOOKS_DIR = Path().resolve()\n",
    "PROJECT_DIR = NOTEBOOKS_DIR.parent\n",
    "DATA_DIR = PROJECT_DIR / 'data'\n",
    "DATASET_DIR = DATA_DIR / 'pe-machine-learning-dataset'\n",
    "\n",
    "SAMPLES_WITH_REPORTS_DIR = DATASET_DIR / 'samples_with_reports'\n",
    "SAMPLES_PICTURES = DATASET_DIR / 'samples_pictures'\n",
    "SAMPLES_PICTURES.mkdir(exist_ok=True)\n",
    "\n",
    "RANDOM_STATE = 741"
   ]
  },
  {
   "cell_type": "code",
   "execution_count": 3,
   "id": "0a2bcc66-e5a8-48e3-b442-a58cab7cecc0",
   "metadata": {},
   "outputs": [],
   "source": [
    "df = pd.read_parquet(DATA_DIR / 'labeled_df.parquet')"
   ]
  },
  {
   "cell_type": "code",
   "execution_count": 4,
   "id": "0ad7f84c-e2af-43eb-9834-77c4615a4d2a",
   "metadata": {},
   "outputs": [
    {
     "name": "stderr",
     "output_type": "stream",
     "text": [
      "100%|███████████████████████████████████████████████████████████████████████████████████████████████████████| 39090/39090 [1:25:48<00:00,  7.59it/s]\n"
     ]
    }
   ],
   "source": [
    "for filename in tqdm(df.filename, total=df.shape[0]):\n",
    "    filename = str(filename)\n",
    "    with open(SAMPLES_WITH_REPORTS_DIR / filename, 'rb') as _file:\n",
    "        data_ch1 = list(_file.read(224 * 224))\n",
    "        data_ch2 = data_ch1.copy()\n",
    "        data_ch3 = data_ch1.copy()\n",
    "\n",
    "    try:\n",
    "        pe = pefile.PE(SAMPLES_WITH_REPORTS_DIR / filename)\n",
    "\n",
    "        for section in pe.sections:\n",
    "            if section.Name.startswith(b'.text'):\n",
    "                data_ch2 = list(pe.__data__[section.get_PointerToRawData_adj():224*224])\n",
    "                break\n",
    "        \n",
    "        for section in pe.sections:\n",
    "            if section.Name.startswith(b'.data'):\n",
    "                data_ch3 = list(pe.__data__[section.get_PointerToRawData_adj():224*224])\n",
    "                break\n",
    "    except:\n",
    "        pass\n",
    "\n",
    "    for data in (data_ch1, data_ch2, data_ch3):\n",
    "        padding = [0] * (224*224 - len(data))\n",
    "        data.extend(padding)\n",
    "\n",
    "    img = torch.stack(\n",
    "        [\n",
    "            torch.reshape(input=torch.tensor(data_ch1, dtype=torch.uint8), shape=(1, 224, 224)),\n",
    "            torch.reshape(input=torch.tensor(data_ch2, dtype=torch.uint8), shape=(1, 224, 224)),\n",
    "            torch.reshape(input=torch.tensor(data_ch3, dtype=torch.uint8), shape=(1, 224, 224)),\n",
    "        ],\n",
    "        dim=1\n",
    "    )\n",
    "\n",
    "    torch.save(img, SAMPLES_PICTURES / filename)\n"
   ]
  },
  {
   "cell_type": "code",
   "execution_count": null,
   "id": "553df243-f133-4e04-bbaa-fdbcfeabe8ad",
   "metadata": {},
   "outputs": [],
   "source": []
  },
  {
   "cell_type": "code",
   "execution_count": null,
   "id": "bb3c035b-23bd-466c-bdf4-f61e7ca03f0f",
   "metadata": {},
   "outputs": [],
   "source": []
  }
 ],
 "metadata": {
  "kernelspec": {
   "display_name": "Python 3 (ipykernel)",
   "language": "python",
   "name": "python3"
  },
  "language_info": {
   "codemirror_mode": {
    "name": "ipython",
    "version": 3
   },
   "file_extension": ".py",
   "mimetype": "text/x-python",
   "name": "python",
   "nbconvert_exporter": "python",
   "pygments_lexer": "ipython3",
   "version": "3.10.13"
  }
 },
 "nbformat": 4,
 "nbformat_minor": 5
}
