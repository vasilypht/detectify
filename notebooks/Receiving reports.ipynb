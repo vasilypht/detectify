{
 "cells": [
  {
   "cell_type": "code",
   "execution_count": 8,
   "id": "80e86224-0fc3-413c-83c4-26823dda9ae9",
   "metadata": {},
   "outputs": [],
   "source": [
    "import os\n",
    "import json\n",
    "import time\n",
    "from pathlib import Path\n",
    "\n",
    "import pandas as pd\n",
    "import requests\n",
    "from dotenv import load_dotenv\n",
    "from tqdm import tqdm"
   ]
  },
  {
   "cell_type": "code",
   "execution_count": 9,
   "id": "c084ab3d-81a5-4a54-8b97-ebae398b0bdc",
   "metadata": {},
   "outputs": [],
   "source": [
    "NOTEBOOKS_DIR = Path().resolve()\n",
    "PROJECT_DIR = NOTEBOOKS_DIR.parent\n",
    "DATA_DIR = PROJECT_DIR / 'data'\n",
    "\n",
    "DATASET_DIR = DATA_DIR / 'pe-machine-learning-dataset'\n",
    "REPORTS_DIR = DATASET_DIR / 'reports'\n",
    "REPORTS_DIR.mkdir(exist_ok=True, parents=True)"
   ]
  },
  {
   "cell_type": "code",
   "execution_count": 10,
   "id": "f46597be-44fa-46c9-9554-b5d2a6f327ac",
   "metadata": {},
   "outputs": [
    {
     "data": {
      "text/plain": [
       "True"
      ]
     },
     "execution_count": 10,
     "metadata": {},
     "output_type": "execute_result"
    }
   ],
   "source": [
    "load_dotenv(PROJECT_DIR / '.env')"
   ]
  },
  {
   "cell_type": "code",
   "execution_count": 11,
   "id": "12b0daf1-7c4b-43e4-846b-f1e2e6d92422",
   "metadata": {},
   "outputs": [
    {
     "data": {
      "text/plain": [
       "(201549, 12)"
      ]
     },
     "execution_count": 11,
     "metadata": {},
     "output_type": "execute_result"
    }
   ],
   "source": [
    "df = pd.read_csv(DATASET_DIR / 'samples.csv')\n",
    "df.shape"
   ]
  },
  {
   "cell_type": "code",
   "execution_count": 12,
   "id": "d8f96201-4c7e-452e-8750-81b821672373",
   "metadata": {},
   "outputs": [
    {
     "data": {
      "text/plain": [
       "(3307,)"
      ]
     },
     "execution_count": 12,
     "metadata": {},
     "output_type": "execute_result"
    }
   ],
   "source": [
    "reports = pd.Series(map(lambda x: x.stem, REPORTS_DIR.glob('*')))\n",
    "reports.shape"
   ]
  },
  {
   "cell_type": "code",
   "execution_count": 13,
   "id": "1a116709-f774-4d3c-8922-bebc7c6a4575",
   "metadata": {},
   "outputs": [
    {
     "data": {
      "text/plain": [
       "(198242, 12)"
      ]
     },
     "execution_count": 13,
     "metadata": {},
     "output_type": "execute_result"
    }
   ],
   "source": [
    "hashes_without_reports = df[~df.sha256.isin(reports)]\n",
    "hashes_without_reports.shape"
   ]
  },
  {
   "cell_type": "code",
   "execution_count": null,
   "id": "83f79260-9177-4c31-9d2a-66bf42c4ed7f",
   "metadata": {},
   "outputs": [
    {
     "name": "stderr",
     "output_type": "stream",
     "text": [
      "366it [1:48:51, 17.27s/it]"
     ]
    }
   ],
   "source": [
    "for idx, row in tqdm(hashes_without_reports.iterrows()):\n",
    "    report = {}\n",
    "\n",
    "    url = f'https://www.virustotal.com/api/v3/files/{row.sha256}'\n",
    "    headers = {\n",
    "        \"accept\": \"application/json\",\n",
    "        \"x-apikey\": os.getenv('VT7_API'),\n",
    "    }\n",
    "    response = requests.get(url, headers=headers)\n",
    "    if response.status_code == 200:\n",
    "        report['files'] = response.json()\n",
    "    else:\n",
    "        raise Exception(response.text)\n",
    "\n",
    "    time.sleep(8)\n",
    "\n",
    "    url = f'https://www.virustotal.com/api/v3/files/{row.sha256}/behaviours'\n",
    "    headers = {\n",
    "        \"accept\": \"application/json\",\n",
    "        \"x-apikey\": os.getenv('VT8_API'),\n",
    "    }\n",
    "    response = requests.get(url, headers=headers)\n",
    "    if response.status_code == 200:\n",
    "        report['files_behaviours'] = response.json()\n",
    "    else:\n",
    "        raise Exception(response.text)\n",
    "\n",
    "    report_path = REPORTS_DIR / f'{row.sha256}.json'\n",
    "    with report_path.open('w') as file:\n",
    "        json.dump(report, file, indent=4)\n",
    "\n",
    "    time.sleep(7)"
   ]
  },
  {
   "cell_type": "code",
   "execution_count": null,
   "id": "b2581dec-d7df-41bf-ab9f-106bd58ef15a",
   "metadata": {},
   "outputs": [],
   "source": []
  }
 ],
 "metadata": {
  "kernelspec": {
   "display_name": "Python 3 (ipykernel)",
   "language": "python",
   "name": "python3"
  },
  "language_info": {
   "codemirror_mode": {
    "name": "ipython",
    "version": 3
   },
   "file_extension": ".py",
   "mimetype": "text/x-python",
   "name": "python",
   "nbconvert_exporter": "python",
   "pygments_lexer": "ipython3",
   "version": "3.9.16"
  }
 },
 "nbformat": 4,
 "nbformat_minor": 5
}
