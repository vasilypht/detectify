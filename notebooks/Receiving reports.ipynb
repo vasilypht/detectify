{
 "cells": [
  {
   "cell_type": "code",
   "execution_count": 1,
   "id": "80e86224-0fc3-413c-83c4-26823dda9ae9",
   "metadata": {},
   "outputs": [],
   "source": [
    "import os\n",
    "import shutil\n",
    "import json\n",
    "import time\n",
    "from pathlib import Path\n",
    "\n",
    "import pandas as pd\n",
    "import requests\n",
    "from dotenv import load_dotenv\n",
    "from tqdm import tqdm"
   ]
  },
  {
   "cell_type": "code",
   "execution_count": 2,
   "id": "c084ab3d-81a5-4a54-8b97-ebae398b0bdc",
   "metadata": {},
   "outputs": [],
   "source": [
    "NOTEBOOKS_DIR = Path().resolve()\n",
    "PROJECT_DIR = NOTEBOOKS_DIR.parent\n",
    "DATA_DIR = PROJECT_DIR / 'data'\n",
    "\n",
    "DATASET_DIR = DATA_DIR / 'pe-machine-learning-dataset'\n",
    "REPORTS_DIR = DATASET_DIR / 'reports'\n",
    "REPORTS_DIR.mkdir(exist_ok=True, parents=True)"
   ]
  },
  {
   "cell_type": "code",
   "execution_count": 7,
   "id": "f46597be-44fa-46c9-9554-b5d2a6f327ac",
   "metadata": {},
   "outputs": [
    {
     "data": {
      "text/plain": [
       "True"
      ]
     },
     "execution_count": 7,
     "metadata": {},
     "output_type": "execute_result"
    }
   ],
   "source": [
    "load_dotenv(PROJECT_DIR / '.env')"
   ]
  },
  {
   "cell_type": "code",
   "execution_count": 8,
   "id": "12b0daf1-7c4b-43e4-846b-f1e2e6d92422",
   "metadata": {},
   "outputs": [
    {
     "data": {
      "text/plain": [
       "(201549, 12)"
      ]
     },
     "execution_count": 8,
     "metadata": {},
     "output_type": "execute_result"
    }
   ],
   "source": [
    "df = pd.read_csv(DATASET_DIR / 'samples.csv')\n",
    "df.shape"
   ]
  },
  {
   "cell_type": "code",
   "execution_count": 9,
   "id": "9901d060-bf01-43e9-8731-e14f3ed06e1c",
   "metadata": {},
   "outputs": [],
   "source": [
    "for _ in range(10):\n",
    "    df = df.sample(frac=1)"
   ]
  },
  {
   "cell_type": "code",
   "execution_count": 10,
   "id": "d8f96201-4c7e-452e-8750-81b821672373",
   "metadata": {},
   "outputs": [
    {
     "data": {
      "text/plain": [
       "(40126,)"
      ]
     },
     "execution_count": 10,
     "metadata": {},
     "output_type": "execute_result"
    }
   ],
   "source": [
    "reports = pd.Series(map(lambda x: x.stem, REPORTS_DIR.glob('*')))\n",
    "reports.shape"
   ]
  },
  {
   "cell_type": "code",
   "execution_count": 11,
   "id": "1c68bd0d-36f5-4f2f-ad46-594a071b9932",
   "metadata": {},
   "outputs": [
    {
     "data": {
      "text/plain": [
       "list\n",
       "Blacklist    22199\n",
       "Whitelist    17927\n",
       "Name: count, dtype: int64"
      ]
     },
     "execution_count": 11,
     "metadata": {},
     "output_type": "execute_result"
    }
   ],
   "source": [
    "df[df.sha256.isin(reports)].list.value_counts()"
   ]
  },
  {
   "cell_type": "code",
   "execution_count": 8,
   "id": "1a116709-f774-4d3c-8922-bebc7c6a4575",
   "metadata": {},
   "outputs": [
    {
     "data": {
      "text/plain": [
       "(161423, 12)"
      ]
     },
     "execution_count": 8,
     "metadata": {},
     "output_type": "execute_result"
    }
   ],
   "source": [
    "hashes_without_reports = df[~df.sha256.isin(reports)]\n",
    "hashes_without_reports.shape"
   ]
  },
  {
   "cell_type": "code",
   "execution_count": 9,
   "id": "83f79260-9177-4c31-9d2a-66bf42c4ed7f",
   "metadata": {},
   "outputs": [
    {
     "name": "stderr",
     "output_type": "stream",
     "text": [
      "437it [2:09:42, 17.81s/it]\n"
     ]
    },
    {
     "ename": "KeyboardInterrupt",
     "evalue": "",
     "output_type": "error",
     "traceback": [
      "\u001b[0;31m---------------------------------------------------------------------------\u001b[0m",
      "\u001b[0;31mKeyboardInterrupt\u001b[0m                         Traceback (most recent call last)",
      "Cell \u001b[0;32mIn[9], line 32\u001b[0m\n\u001b[1;32m     29\u001b[0m \u001b[38;5;28;01mwith\u001b[39;00m report_path\u001b[38;5;241m.\u001b[39mopen(\u001b[38;5;124m'\u001b[39m\u001b[38;5;124mw\u001b[39m\u001b[38;5;124m'\u001b[39m) \u001b[38;5;28;01mas\u001b[39;00m file:\n\u001b[1;32m     30\u001b[0m     json\u001b[38;5;241m.\u001b[39mdump(report, file, indent\u001b[38;5;241m=\u001b[39m\u001b[38;5;241m4\u001b[39m)\n\u001b[0;32m---> 32\u001b[0m \u001b[43mtime\u001b[49m\u001b[38;5;241;43m.\u001b[39;49m\u001b[43msleep\u001b[49m\u001b[43m(\u001b[49m\u001b[38;5;241;43m8\u001b[39;49m\u001b[43m)\u001b[49m\n",
      "\u001b[0;31mKeyboardInterrupt\u001b[0m: "
     ]
    }
   ],
   "source": [
    "for idx, row in tqdm(hashes_without_reports.iterrows()):\n",
    "    report = {}\n",
    "\n",
    "    url = f'https://www.virustotal.com/api/v3/files/{row.sha256}'\n",
    "    headers = {\n",
    "        \"accept\": \"application/json\",\n",
    "        \"x-apikey\": os.getenv('VT1_API'),\n",
    "    }\n",
    "    response = requests.get(url, headers=headers)\n",
    "    if response.status_code == 200:\n",
    "        report['files'] = response.json()\n",
    "    else:\n",
    "        raise Exception(response.text)\n",
    "\n",
    "    time.sleep(8)\n",
    "\n",
    "    url = f'https://www.virustotal.com/api/v3/files/{row.sha256}/behaviours'\n",
    "    headers = {\n",
    "        \"accept\": \"application/json\",\n",
    "        \"x-apikey\": os.getenv('VT2_API'),\n",
    "    }\n",
    "    response = requests.get(url, headers=headers)\n",
    "    if response.status_code == 200:\n",
    "        report['files_behaviours'] = response.json()\n",
    "    else:\n",
    "        raise Exception(response.text)\n",
    "\n",
    "    report_path = REPORTS_DIR / f'{row.sha256}.json'\n",
    "    with report_path.open('w') as file:\n",
    "        json.dump(report, file, indent=4)\n",
    "\n",
    "    time.sleep(8)"
   ]
  },
  {
   "cell_type": "code",
   "execution_count": null,
   "id": "e06c4273-1e11-42b3-9a84-dafd36e9d96d",
   "metadata": {},
   "outputs": [],
   "source": []
  },
  {
   "cell_type": "code",
   "execution_count": 19,
   "id": "b2581dec-d7df-41bf-ab9f-106bd58ef15a",
   "metadata": {},
   "outputs": [],
   "source": [
    "df_batch = hashes_without_reports.iloc[-5000:]"
   ]
  },
  {
   "cell_type": "code",
   "execution_count": 22,
   "id": "81e7ee13-2f15-4631-ac7d-d43827e922e5",
   "metadata": {},
   "outputs": [],
   "source": [
    "df_batch.to_parquet(DATA_DIR / 'df_batch.parquet')"
   ]
  },
  {
   "cell_type": "code",
   "execution_count": null,
   "id": "cd80d438-c8e5-4f89-8bb6-e6ce23b058de",
   "metadata": {},
   "outputs": [],
   "source": []
  },
  {
   "cell_type": "code",
   "execution_count": 12,
   "id": "a0c5e1f4-0561-4e48-b4ba-6e736f3b6f09",
   "metadata": {},
   "outputs": [],
   "source": [
    "df_with_reports = df[df.sha256.isin(reports)]"
   ]
  },
  {
   "cell_type": "code",
   "execution_count": 13,
   "id": "c477af1d-1276-46b8-bf35-ee99daf16569",
   "metadata": {},
   "outputs": [
    {
     "data": {
      "text/plain": [
       "(40126, 12)"
      ]
     },
     "execution_count": 13,
     "metadata": {},
     "output_type": "execute_result"
    }
   ],
   "source": [
    "df_with_reports.shape"
   ]
  },
  {
   "cell_type": "code",
   "execution_count": 15,
   "id": "25b0b957-3e63-4308-b6b9-057e322fa8e9",
   "metadata": {},
   "outputs": [
    {
     "name": "stderr",
     "output_type": "stream",
     "text": [
      "100%|██████████████████████████████████████████████████████████████████████████████████████████████████████████| 40126/40126 [02:39<00:00, 251.97it/s]\n"
     ]
    }
   ],
   "source": [
    "for idx, row in tqdm(df_with_reports.iterrows(), total=df_with_reports.shape[0]):\n",
    "    src_sample_path = DATASET_DIR / 'samples' / str(row.id)\n",
    "    dst_sample_path = DATASET_DIR / 'samples_with_reports' / str(row.id)\n",
    "    shutil.copyfile(src_sample_path, dst_sample_path)"
   ]
  },
  {
   "cell_type": "code",
   "execution_count": 16,
   "id": "4a53eb62-2a44-4506-8cde-dc404f337ae0",
   "metadata": {},
   "outputs": [],
   "source": [
    "df_with_reports.to_parquet(DATA_DIR / 'dataset_with_reports.parquet')"
   ]
  },
  {
   "cell_type": "code",
   "execution_count": null,
   "id": "0379a408-d80d-4e7e-9be7-eaca235153be",
   "metadata": {},
   "outputs": [],
   "source": []
  },
  {
   "cell_type": "code",
   "execution_count": null,
   "id": "e25f8e02-0a52-42ef-a18a-5948ce73bfb2",
   "metadata": {},
   "outputs": [],
   "source": []
  }
 ],
 "metadata": {
  "kernelspec": {
   "display_name": "Python 3 (ipykernel)",
   "language": "python",
   "name": "python3"
  },
  "language_info": {
   "codemirror_mode": {
    "name": "ipython",
    "version": 3
   },
   "file_extension": ".py",
   "mimetype": "text/x-python",
   "name": "python",
   "nbconvert_exporter": "python",
   "pygments_lexer": "ipython3",
   "version": "3.10.13"
  }
 },
 "nbformat": 4,
 "nbformat_minor": 5
}
