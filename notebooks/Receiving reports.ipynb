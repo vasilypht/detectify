{
 "cells": [
  {
   "cell_type": "code",
   "execution_count": 12,
   "id": "80e86224-0fc3-413c-83c4-26823dda9ae9",
   "metadata": {},
   "outputs": [],
   "source": [
    "import os\n",
    "import json\n",
    "import time\n",
    "from pathlib import Path\n",
    "\n",
    "import pandas as pd\n",
    "import requests\n",
    "from dotenv import load_dotenv\n",
    "from tqdm import tqdm"
   ]
  },
  {
   "cell_type": "code",
   "execution_count": 13,
   "id": "c084ab3d-81a5-4a54-8b97-ebae398b0bdc",
   "metadata": {},
   "outputs": [],
   "source": [
    "NOTEBOOKS_DIR = Path().resolve()\n",
    "PROJECT_DIR = NOTEBOOKS_DIR.parent\n",
    "DATA_DIR = PROJECT_DIR / 'data'\n",
    "\n",
    "DATASET_DIR = DATA_DIR / 'pe-machine-learning-dataset'\n",
    "REPORTS_DIR = DATASET_DIR / 'reports'\n",
    "REPORTS_DIR.mkdir(exist_ok=True, parents=True)"
   ]
  },
  {
   "cell_type": "code",
   "execution_count": 14,
   "id": "f46597be-44fa-46c9-9554-b5d2a6f327ac",
   "metadata": {},
   "outputs": [
    {
     "data": {
      "text/plain": [
       "True"
      ]
     },
     "execution_count": 14,
     "metadata": {},
     "output_type": "execute_result"
    }
   ],
   "source": [
    "load_dotenv(PROJECT_DIR / '.env')"
   ]
  },
  {
   "cell_type": "code",
   "execution_count": 15,
   "id": "12b0daf1-7c4b-43e4-846b-f1e2e6d92422",
   "metadata": {},
   "outputs": [
    {
     "data": {
      "text/plain": [
       "(201549, 12)"
      ]
     },
     "execution_count": 15,
     "metadata": {},
     "output_type": "execute_result"
    }
   ],
   "source": [
    "df = pd.read_csv(DATASET_DIR / 'samples.csv')\n",
    "df.shape"
   ]
  },
  {
   "cell_type": "code",
   "execution_count": 16,
   "id": "9901d060-bf01-43e9-8731-e14f3ed06e1c",
   "metadata": {},
   "outputs": [],
   "source": [
    "for _ in range(10):\n",
    "    df = df.sample(frac=1)"
   ]
  },
  {
   "cell_type": "code",
   "execution_count": 35,
   "id": "d8f96201-4c7e-452e-8750-81b821672373",
   "metadata": {},
   "outputs": [
    {
     "data": {
      "text/plain": [
       "(17151,)"
      ]
     },
     "execution_count": 35,
     "metadata": {},
     "output_type": "execute_result"
    }
   ],
   "source": [
    "reports = pd.Series(map(lambda x: x.stem, REPORTS_DIR.glob('*')))\n",
    "reports.shape"
   ]
  },
  {
   "cell_type": "code",
   "execution_count": 36,
   "id": "1c68bd0d-36f5-4f2f-ad46-594a071b9932",
   "metadata": {},
   "outputs": [
    {
     "data": {
      "text/plain": [
       "list\n",
       "Blacklist    8923\n",
       "Whitelist    8228\n",
       "Name: count, dtype: int64"
      ]
     },
     "execution_count": 36,
     "metadata": {},
     "output_type": "execute_result"
    }
   ],
   "source": [
    "df[df.sha256.isin(reports)].list.value_counts()"
   ]
  },
  {
   "cell_type": "code",
   "execution_count": 37,
   "id": "1a116709-f774-4d3c-8922-bebc7c6a4575",
   "metadata": {},
   "outputs": [
    {
     "data": {
      "text/plain": [
       "(184398, 12)"
      ]
     },
     "execution_count": 37,
     "metadata": {},
     "output_type": "execute_result"
    }
   ],
   "source": [
    "hashes_without_reports = df[~df.sha256.isin(reports)]\n",
    "hashes_without_reports.shape"
   ]
  },
  {
   "cell_type": "code",
   "execution_count": 38,
   "id": "83f79260-9177-4c31-9d2a-66bf42c4ed7f",
   "metadata": {},
   "outputs": [
    {
     "name": "stderr",
     "output_type": "stream",
     "text": [
      "47it [13:57, 17.82s/it]\n"
     ]
    },
    {
     "ename": "Exception",
     "evalue": "{\n    \"error\": {\n        \"message\": \"Quota exceeded\",\n        \"code\": \"QuotaExceededError\"\n    }\n}",
     "output_type": "error",
     "traceback": [
      "\u001b[0;31m---------------------------------------------------------------------------\u001b[0m",
      "\u001b[0;31mException\u001b[0m                                 Traceback (most recent call last)",
      "Cell \u001b[0;32mIn[38], line 13\u001b[0m\n\u001b[1;32m     11\u001b[0m     report[\u001b[38;5;124m'\u001b[39m\u001b[38;5;124mfiles\u001b[39m\u001b[38;5;124m'\u001b[39m] \u001b[38;5;241m=\u001b[39m response\u001b[38;5;241m.\u001b[39mjson()\n\u001b[1;32m     12\u001b[0m \u001b[38;5;28;01melse\u001b[39;00m:\n\u001b[0;32m---> 13\u001b[0m     \u001b[38;5;28;01mraise\u001b[39;00m \u001b[38;5;167;01mException\u001b[39;00m(response\u001b[38;5;241m.\u001b[39mtext)\n\u001b[1;32m     15\u001b[0m time\u001b[38;5;241m.\u001b[39msleep(\u001b[38;5;241m8\u001b[39m)\n\u001b[1;32m     17\u001b[0m url \u001b[38;5;241m=\u001b[39m \u001b[38;5;124mf\u001b[39m\u001b[38;5;124m'\u001b[39m\u001b[38;5;124mhttps://www.virustotal.com/api/v3/files/\u001b[39m\u001b[38;5;132;01m{\u001b[39;00mrow\u001b[38;5;241m.\u001b[39msha256\u001b[38;5;132;01m}\u001b[39;00m\u001b[38;5;124m/behaviours\u001b[39m\u001b[38;5;124m'\u001b[39m\n",
      "\u001b[0;31mException\u001b[0m: {\n    \"error\": {\n        \"message\": \"Quota exceeded\",\n        \"code\": \"QuotaExceededError\"\n    }\n}"
     ]
    }
   ],
   "source": [
    "for idx, row in tqdm(hashes_without_reports.iterrows()):\n",
    "    report = {}\n",
    "\n",
    "    url = f'https://www.virustotal.com/api/v3/files/{row.sha256}'\n",
    "    headers = {\n",
    "        \"accept\": \"application/json\",\n",
    "        \"x-apikey\": os.getenv('VT1_API'),\n",
    "    }\n",
    "    response = requests.get(url, headers=headers)\n",
    "    if response.status_code == 200:\n",
    "        report['files'] = response.json()\n",
    "    else:\n",
    "        raise Exception(response.text)\n",
    "\n",
    "    time.sleep(8)\n",
    "\n",
    "    url = f'https://www.virustotal.com/api/v3/files/{row.sha256}/behaviours'\n",
    "    headers = {\n",
    "        \"accept\": \"application/json\",\n",
    "        \"x-apikey\": os.getenv('VT2_API'),\n",
    "    }\n",
    "    response = requests.get(url, headers=headers)\n",
    "    if response.status_code == 200:\n",
    "        report['files_behaviours'] = response.json()\n",
    "    else:\n",
    "        raise Exception(response.text)\n",
    "\n",
    "    report_path = REPORTS_DIR / f'{row.sha256}.json'\n",
    "    with report_path.open('w') as file:\n",
    "        json.dump(report, file, indent=4)\n",
    "\n",
    "    time.sleep(8)"
   ]
  },
  {
   "cell_type": "code",
   "execution_count": null,
   "id": "e06c4273-1e11-42b3-9a84-dafd36e9d96d",
   "metadata": {},
   "outputs": [],
   "source": []
  },
  {
   "cell_type": "code",
   "execution_count": 20,
   "id": "b2581dec-d7df-41bf-ab9f-106bd58ef15a",
   "metadata": {},
   "outputs": [],
   "source": [
    "df_batch = hashes_without_reports.iloc[-5000:]"
   ]
  },
  {
   "cell_type": "code",
   "execution_count": 21,
   "id": "81e7ee13-2f15-4631-ac7d-d43827e922e5",
   "metadata": {},
   "outputs": [],
   "source": [
    "df_batch.to_parquet(DATA_DIR / 'df_batch.parquet')"
   ]
  },
  {
   "cell_type": "code",
   "execution_count": null,
   "id": "09550360-afec-4404-9c2c-2d0ea7f2d75a",
   "metadata": {},
   "outputs": [],
   "source": []
  }
 ],
 "metadata": {
  "kernelspec": {
   "display_name": "Python 3 (ipykernel)",
   "language": "python",
   "name": "python3"
  },
  "language_info": {
   "codemirror_mode": {
    "name": "ipython",
    "version": 3
   },
   "file_extension": ".py",
   "mimetype": "text/x-python",
   "name": "python",
   "nbconvert_exporter": "python",
   "pygments_lexer": "ipython3",
   "version": "3.9.16"
  }
 },
 "nbformat": 4,
 "nbformat_minor": 5
}
