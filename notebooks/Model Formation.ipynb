{
 "cells": [
  {
   "cell_type": "code",
   "execution_count": 31,
   "id": "4f7cf52c-5e00-4fd3-b277-1e3e32c809ff",
   "metadata": {},
   "outputs": [],
   "source": [
    "from pathlib import Path\n",
    "\n",
    "import torch\n",
    "from transformers import (\n",
    "    ViTConfig,\n",
    "    ViTModel,\n",
    "    AutoModel,\n",
    "    PreTrainedModel,\n",
    "    PretrainedConfig,\n",
    "    LongformerModel,\n",
    "    LongformerConfig,\n",
    "    LongformerTokenizerFast,\n",
    "    AutoImageProcessor,\n",
    ")"
   ]
  },
  {
   "cell_type": "code",
   "execution_count": 7,
   "id": "34fa951e-9f5c-4de1-ad04-b80d1f3d75b2",
   "metadata": {},
   "outputs": [],
   "source": [
    "NOTEBOOKS_DIR = Path().resolve()\n",
    "PROJECT_DIR = NOTEBOOKS_DIR.parent\n",
    "DATA_DIR = PROJECT_DIR / 'data'\n",
    "MODEL_DIR = PROJECT_DIR / 'model-2'\n",
    "MODEL_DIR.mkdir(exist_ok=True)"
   ]
  },
  {
   "cell_type": "code",
   "execution_count": 10,
   "id": "2f3c5cf4-c2af-442e-9ef3-d72c0a16288c",
   "metadata": {},
   "outputs": [],
   "source": [
    "\n",
    "class ViTLongformerModel(torch.nn.Module):\n",
    "    def __init__(self) -> None:\n",
    "        super(ViTLongformerModel, self).__init__()\n",
    "        cfg = ViTConfig.from_pretrained(\"WinKawaks/vit-small-patch16-224\")\n",
    "        self.vit_model = ViTModel(cfg, add_pooling_layer=False)\n",
    "        self.longformer_model = AutoModel.from_pretrained('kazzand/ru-longformer-tiny-16384')\n",
    "        in_features = self.vit_model.config.hidden_size + self.longformer_model.config.hidden_size\n",
    "        self.classifier = torch.nn.Sequential(\n",
    "            torch.nn.Dropout(0.2),\n",
    "            torch.nn.Linear(in_features, 312),\n",
    "            torch.nn.BatchNorm1d(312),\n",
    "            torch.nn.ReLU(),\n",
    "            torch.nn.Dropout(0.2),\n",
    "            torch.nn.Linear(312, 2),\n",
    "        )\n",
    "\n",
    "    def forward(\n",
    "            self,\n",
    "            longformer_input_ids,\n",
    "            longformer_attention_mask,\n",
    "            longformer_global_attention_mask,\n",
    "            vit_pixel_values,\n",
    "    ):\n",
    "        vit_embds = self.vit_model(pixel_values=vit_pixel_values).last_hidden_state[:,0,:]\n",
    "        longformer_embds = self.longformer_model(\n",
    "            input_ids=longformer_input_ids,\n",
    "            attention_mask=longformer_attention_mask,\n",
    "            global_attention_mask=longformer_global_attention_mask,\n",
    "        ).last_hidden_state[:,0,:]\n",
    "\n",
    "        concated_outputs = torch.concat([vit_embds.flatten(start_dim=1), longformer_embds.flatten(start_dim=1)], dim=1)\n",
    "        logits = self.classifier(concated_outputs)\n",
    "        return logits"
   ]
  },
  {
   "cell_type": "code",
   "execution_count": 11,
   "id": "106fc829-3cbd-4bd9-b6f6-074529db2d2f",
   "metadata": {},
   "outputs": [
    {
     "name": "stderr",
     "output_type": "stream",
     "text": [
      "Some weights of LongformerModel were not initialized from the model checkpoint at kazzand/ru-longformer-tiny-16384 and are newly initialized: ['longformer.pooler.dense.bias', 'longformer.pooler.dense.weight']\n",
      "You should probably TRAIN this model on a down-stream task to be able to use it for predictions and inference.\n"
     ]
    },
    {
     "data": {
      "text/plain": [
       "<All keys matched successfully>"
      ]
     },
     "execution_count": 11,
     "metadata": {},
     "output_type": "execute_result"
    }
   ],
   "source": [
    "model = ViTLongformerModel()\n",
    "model.load_state_dict(torch.load(DATA_DIR / 'checkpoints/model-3-epoch.pt', map_location='cpu'))"
   ]
  },
  {
   "cell_type": "code",
   "execution_count": 14,
   "id": "80c347b7-51d5-414e-a543-5174f927e042",
   "metadata": {},
   "outputs": [],
   "source": [
    "vit_config = model.vit_model.config\n",
    "longformer_config = model.longformer_model.config"
   ]
  },
  {
   "cell_type": "code",
   "execution_count": 15,
   "id": "18aeba0e-a11d-4aec-9ad7-13dc06386c7b",
   "metadata": {},
   "outputs": [],
   "source": [
    "class ViTLongformerConfig(PretrainedConfig):\n",
    "    ..."
   ]
  },
  {
   "cell_type": "code",
   "execution_count": 16,
   "id": "c30005d3-5bd1-406f-91a8-f42eb03dd76c",
   "metadata": {},
   "outputs": [],
   "source": [
    "config = ViTLongformerConfig()"
   ]
  },
  {
   "cell_type": "code",
   "execution_count": 22,
   "id": "03b726be-7c63-4f24-a677-6e4c4a5cd5bc",
   "metadata": {},
   "outputs": [],
   "source": [
    "config.id2label = {\n",
    "    0: 'benign',\n",
    "    1: 'malware',\n",
    "}\n",
    "config.label2id = {\n",
    "    'benign': 0,\n",
    "    'malware': 1,\n",
    "}\n",
    "config.hidden_size = 312\n",
    "config.num_labels = 2"
   ]
  },
  {
   "cell_type": "code",
   "execution_count": 23,
   "id": "4851d118-18d2-47d9-84ae-0920d44a6b2f",
   "metadata": {},
   "outputs": [],
   "source": [
    "config.vit_config = vit_config.to_dict()\n",
    "config.longformer_config = longformer_config.to_dict()"
   ]
  },
  {
   "cell_type": "code",
   "execution_count": 26,
   "id": "9e678975-aa86-4337-af41-aca437dd723c",
   "metadata": {},
   "outputs": [],
   "source": [
    "class ViTLongformerModel(PreTrainedModel):\n",
    "    config_class = ViTLongformerConfig\n",
    "    \n",
    "    def __init__(self, config: ViTLongformerConfig) -> None:\n",
    "        super(ViTLongformerModel, self).__init__(config)\n",
    "        self.config = config\n",
    "\n",
    "        vit_config = ViTConfig.from_dict(config.vit_config)\n",
    "        self.vit_model = ViTModel(vit_config, add_pooling_layer=False)\n",
    "\n",
    "        longformer_config = LongformerConfig.from_dict(config.longformer_config)\n",
    "        self.longformer_model = LongformerModel(longformer_config)\n",
    "        \n",
    "        in_features = self.vit_model.config.hidden_size + self.longformer_model.config.hidden_size\n",
    "        self.classifier = torch.nn.Sequential(\n",
    "            torch.nn.Dropout(0.2),\n",
    "            torch.nn.Linear(in_features, self.config.hidden_size),\n",
    "            torch.nn.BatchNorm1d(self.config.hidden_size),\n",
    "            torch.nn.ReLU(),\n",
    "            torch.nn.Dropout(0.2),\n",
    "            torch.nn.Linear(self.config.hidden_size, self.config.num_labels),\n",
    "        )\n",
    "        self.init_weights()\n",
    "\n",
    "    def forward(\n",
    "            self,\n",
    "            longformer_input_ids,\n",
    "            longformer_attention_mask,\n",
    "            longformer_global_attention_mask,\n",
    "            vit_pixel_values,\n",
    "    ):\n",
    "        vit_embds = self.vit_model(pixel_values=vit_pixel_values).last_hidden_state[:,0,:]\n",
    "        longformer_embds = self.longformer_model(\n",
    "            input_ids=longformer_input_ids,\n",
    "            attention_mask=longformer_attention_mask,\n",
    "            global_attention_mask=longformer_global_attention_mask,\n",
    "        ).last_hidden_state[:,0,:]\n",
    "\n",
    "        concated_outputs = torch.concat([vit_embds.flatten(start_dim=1), longformer_embds.flatten(start_dim=1)], dim=1)\n",
    "        logits = self.classifier(concated_outputs)\n",
    "        return logits"
   ]
  },
  {
   "cell_type": "code",
   "execution_count": 27,
   "id": "56b3b6cf-2f44-41de-b3a5-83c753ddd6a1",
   "metadata": {},
   "outputs": [],
   "source": [
    "model = ViTLongformerModel(config)"
   ]
  },
  {
   "cell_type": "code",
   "execution_count": 28,
   "id": "2536f1f4-276c-4ca9-a7d6-1816148a8a5c",
   "metadata": {},
   "outputs": [
    {
     "data": {
      "text/plain": [
       "<All keys matched successfully>"
      ]
     },
     "execution_count": 28,
     "metadata": {},
     "output_type": "execute_result"
    }
   ],
   "source": [
    "model.load_state_dict(torch.load(DATA_DIR / 'checkpoints/model-3-epoch.pt', map_location='cpu'))"
   ]
  },
  {
   "cell_type": "code",
   "execution_count": 29,
   "id": "c1267936-50d4-42c5-b4dc-075538b5f77a",
   "metadata": {},
   "outputs": [],
   "source": [
    "model.save_pretrained(MODEL_DIR)\n",
    "config.save_pretrained(MODEL_DIR)"
   ]
  },
  {
   "cell_type": "code",
   "execution_count": 30,
   "id": "f3e8900c-3d0d-4f20-aaef-bc0804dcf093",
   "metadata": {},
   "outputs": [
    {
     "data": {
      "text/plain": [
       "('/Users/vasilyperekhrest/PycharmProjects/malware-detection/model-2/tokenizer_config.json',\n",
       " '/Users/vasilyperekhrest/PycharmProjects/malware-detection/model-2/special_tokens_map.json',\n",
       " '/Users/vasilyperekhrest/PycharmProjects/malware-detection/model-2/vocab.txt',\n",
       " '/Users/vasilyperekhrest/PycharmProjects/malware-detection/model-2/added_tokens.json',\n",
       " '/Users/vasilyperekhrest/PycharmProjects/malware-detection/model-2/tokenizer.json')"
      ]
     },
     "execution_count": 30,
     "metadata": {},
     "output_type": "execute_result"
    }
   ],
   "source": [
    "tokenizer = LongformerTokenizerFast.from_pretrained('kazzand/ru-longformer-tiny-16384')\n",
    "tokenizer.save_pretrained(MODEL_DIR)"
   ]
  },
  {
   "cell_type": "code",
   "execution_count": 32,
   "id": "569eb812-2163-4d00-8d3a-58daf2d39931",
   "metadata": {},
   "outputs": [
    {
     "name": "stderr",
     "output_type": "stream",
     "text": [
      "preprocessor_config.json: 100%|██████████| 160/160 [00:00<00:00, 322kB/s]\n"
     ]
    },
    {
     "data": {
      "text/plain": [
       "['/Users/vasilyperekhrest/PycharmProjects/malware-detection/model-2/preprocessor_config.json']"
      ]
     },
     "execution_count": 32,
     "metadata": {},
     "output_type": "execute_result"
    }
   ],
   "source": [
    "\n",
    "image_processor = AutoImageProcessor.from_pretrained('WinKawaks/vit-small-patch16-224')\n",
    "image_processor.save_pretrained(MODEL_DIR)"
   ]
  },
  {
   "cell_type": "code",
   "execution_count": null,
   "id": "587fe1d6",
   "metadata": {},
   "outputs": [],
   "source": []
  }
 ],
 "metadata": {
  "kernelspec": {
   "display_name": "Python 3 (ipykernel)",
   "language": "python",
   "name": "python3"
  },
  "language_info": {
   "codemirror_mode": {
    "name": "ipython",
    "version": 3
   },
   "file_extension": ".py",
   "mimetype": "text/x-python",
   "name": "python",
   "nbconvert_exporter": "python",
   "pygments_lexer": "ipython3",
   "version": "3.10.13"
  }
 },
 "nbformat": 4,
 "nbformat_minor": 5
}
