{
 "cells": [
  {
   "cell_type": "code",
   "execution_count": 1,
   "id": "4f7cf52c-5e00-4fd3-b277-1e3e32c809ff",
   "metadata": {},
   "outputs": [],
   "source": [
    "from pathlib import Path\n",
    "\n",
    "import torch\n",
    "from transformers import (\n",
    "    ResNetConfig,\n",
    "    ResNetModel,\n",
    "    AutoModel,\n",
    "    PreTrainedModel,\n",
    "    PretrainedConfig,\n",
    "    LongformerModel,\n",
    "    LongformerConfig,\n",
    "    LongformerTokenizerFast,\n",
    "    ConvNextImageProcessor,\n",
    ")"
   ]
  },
  {
   "cell_type": "code",
   "execution_count": 2,
   "id": "34fa951e-9f5c-4de1-ad04-b80d1f3d75b2",
   "metadata": {},
   "outputs": [],
   "source": [
    "NOTEBOOKS_DIR = Path().resolve()\n",
    "PROJECT_DIR = NOTEBOOKS_DIR.parent\n",
    "MODEL_DIR = PROJECT_DIR / 'model'"
   ]
  },
  {
   "cell_type": "code",
   "execution_count": 3,
   "id": "2f3c5cf4-c2af-442e-9ef3-d72c0a16288c",
   "metadata": {},
   "outputs": [],
   "source": [
    "class MalwareDetectionModel(torch.nn.Module):\n",
    "    def __init__(\n",
    "            self,\n",
    "            num_classes: int = 2,\n",
    "    ) -> None:\n",
    "        super(MalwareDetectionModel, self).__init__()\n",
    "        resnet_config = ResNetConfig(\n",
    "            num_channels=1,\n",
    "            torch_dtype=torch.float32,\n",
    "            depths=[2, 2, 2, 2],\n",
    "            hidden_sizes=[64, 128, 256, 512],\n",
    "            layer_type='basic',\n",
    "            model_type='resnet',\n",
    "        )\n",
    "        self.resnet_model = ResNetModel(resnet_config)\n",
    "        self.longformer_model = AutoModel.from_pretrained('kazzand/ru-longformer-tiny-16384')\n",
    "\n",
    "        in_features = self.resnet_model.config.hidden_sizes[-1] + self.longformer_model.config.hidden_size\n",
    "\n",
    "        self.linear = torch.nn.Linear(in_features, 312)\n",
    "        self.fc = torch.nn.Linear(312, num_classes)\n",
    "\n",
    "\n",
    "    def forward(\n",
    "            self,\n",
    "            longformer_input_ids,\n",
    "            longformer_attention_mask,\n",
    "            longformer_global_attention_mask,\n",
    "            resnet_pixel_values,\n",
    "    ):\n",
    "        resnet_pooler_output = self.resnet_model(pixel_values=resnet_pixel_values).pooler_output\n",
    "        resnet_flatten_pooler_output = resnet_pooler_output.flatten(start_dim=1)\n",
    "\n",
    "        longformer_pooler_output = self.longformer_model(\n",
    "            input_ids=longformer_input_ids,\n",
    "            attention_mask=longformer_attention_mask,\n",
    "            global_attention_mask=longformer_global_attention_mask,\n",
    "        ).pooler_output\n",
    "\n",
    "\n",
    "        concated_outputs = torch.concat([resnet_flatten_pooler_output, longformer_pooler_output], dim=1)\n",
    "        logits = torch.relu(self.linear(concated_outputs))\n",
    "        logits = self.fc(logits)\n",
    "        return logits"
   ]
  },
  {
   "cell_type": "code",
   "execution_count": 4,
   "id": "106fc829-3cbd-4bd9-b6f6-074529db2d2f",
   "metadata": {},
   "outputs": [
    {
     "name": "stderr",
     "output_type": "stream",
     "text": [
      "Some weights of LongformerModel were not initialized from the model checkpoint at kazzand/ru-longformer-tiny-16384 and are newly initialized: ['longformer.pooler.dense.bias', 'longformer.pooler.dense.weight']\n",
      "You should probably TRAIN this model on a down-stream task to be able to use it for predictions and inference.\n"
     ]
    },
    {
     "data": {
      "text/plain": [
       "<All keys matched successfully>"
      ]
     },
     "execution_count": 4,
     "metadata": {},
     "output_type": "execute_result"
    }
   ],
   "source": [
    "model = MalwareDetectionModel()\n",
    "model.load_state_dict(torch.load(MODEL_DIR / 'pytorch_model.bin', map_location='cpu'))"
   ]
  },
  {
   "cell_type": "code",
   "execution_count": 5,
   "id": "80c347b7-51d5-414e-a543-5174f927e042",
   "metadata": {},
   "outputs": [],
   "source": [
    "resnet_config = model.resnet_model.config\n",
    "longformer_config = model.longformer_model.config"
   ]
  },
  {
   "cell_type": "code",
   "execution_count": 6,
   "id": "18aeba0e-a11d-4aec-9ad7-13dc06386c7b",
   "metadata": {},
   "outputs": [],
   "source": [
    "class MalwareDetectionConfig(PretrainedConfig):\n",
    "    ..."
   ]
  },
  {
   "cell_type": "code",
   "execution_count": 7,
   "id": "c30005d3-5bd1-406f-91a8-f42eb03dd76c",
   "metadata": {},
   "outputs": [],
   "source": [
    "mdconfig = MalwareDetectionConfig()"
   ]
  },
  {
   "cell_type": "code",
   "execution_count": 8,
   "id": "03b726be-7c63-4f24-a677-6e4c4a5cd5bc",
   "metadata": {},
   "outputs": [],
   "source": [
    "mdconfig.hidden_size = 312\n",
    "mdconfig.id2label = {\n",
    "    0: 'benign',\n",
    "    1: 'malware',\n",
    "}\n",
    "mdconfig.label2id = {\n",
    "    'benign': 0,\n",
    "    'malware': 1,\n",
    "}\n",
    "mdconfig.num_classes = 2"
   ]
  },
  {
   "cell_type": "code",
   "execution_count": 9,
   "id": "4851d118-18d2-47d9-84ae-0920d44a6b2f",
   "metadata": {},
   "outputs": [],
   "source": [
    "mdconfig.resnet_config = resnet_config.to_dict()\n",
    "mdconfig.longformer_config = longformer_config.to_dict()"
   ]
  },
  {
   "cell_type": "code",
   "execution_count": 10,
   "id": "9e678975-aa86-4337-af41-aca437dd723c",
   "metadata": {},
   "outputs": [],
   "source": [
    "class MalwareDetectionModel(PreTrainedModel):\n",
    "    config_class = MalwareDetectionConfig\n",
    "    \n",
    "    def __init__(self, config: MalwareDetectionConfig) -> None:\n",
    "        super(MalwareDetectionModel, self).__init__(config)\n",
    "        self.config = config\n",
    "\n",
    "        resnet_config = ResNetConfig.from_dict(config.resnet_config)\n",
    "        self.resnet_model = ResNetModel(resnet_config)\n",
    "\n",
    "        longformer_config = LongformerConfig.from_dict(config.longformer_config)\n",
    "        self.longformer_model = LongformerModel(longformer_config)\n",
    "\n",
    "        in_features = self.resnet_model.config.hidden_sizes[-1] + self.longformer_model.config.hidden_size\n",
    "\n",
    "        self.linear = torch.nn.Linear(in_features, self.config.hidden_size)\n",
    "        self.fc = torch.nn.Linear(self.config.hidden_size, self.config.num_classes)\n",
    "        self.init_weights()\n",
    "\n",
    "    def forward(\n",
    "            self,\n",
    "            longformer_input_ids,\n",
    "            longformer_attention_mask,\n",
    "            longformer_global_attention_mask,\n",
    "            resnet_pixel_values,\n",
    "    ):\n",
    "        resnet_pooler_output = self.resnet_model(pixel_values=resnet_pixel_values).pooler_output\n",
    "        resnet_flatten_pooler_output = resnet_pooler_output.flatten(start_dim=1)\n",
    "\n",
    "        longformer_pooler_output = self.longformer_model(\n",
    "            input_ids=longformer_input_ids,\n",
    "            attention_mask=longformer_attention_mask,\n",
    "            global_attention_mask=longformer_global_attention_mask,\n",
    "        ).pooler_output\n",
    "\n",
    "        concated_outputs = torch.concat([resnet_flatten_pooler_output, longformer_pooler_output], dim=1)\n",
    "        logits = torch.relu(self.linear(concated_outputs))\n",
    "        logits = self.fc(logits)\n",
    "        return logits"
   ]
  },
  {
   "cell_type": "code",
   "execution_count": 11,
   "id": "56b3b6cf-2f44-41de-b3a5-83c753ddd6a1",
   "metadata": {},
   "outputs": [],
   "source": [
    "model = MalwareDetectionModel(mdconfig)"
   ]
  },
  {
   "cell_type": "code",
   "execution_count": 12,
   "id": "2536f1f4-276c-4ca9-a7d6-1816148a8a5c",
   "metadata": {},
   "outputs": [
    {
     "data": {
      "text/plain": [
       "<All keys matched successfully>"
      ]
     },
     "execution_count": 12,
     "metadata": {},
     "output_type": "execute_result"
    }
   ],
   "source": [
    "model.load_state_dict(torch.load(MODEL_DIR / 'pytorch_model.bin', map_location='cpu'))"
   ]
  },
  {
   "cell_type": "code",
   "execution_count": 13,
   "id": "c1267936-50d4-42c5-b4dc-075538b5f77a",
   "metadata": {},
   "outputs": [],
   "source": [
    "model.save_pretrained(MODEL_DIR)\n",
    "mdconfig.save_pretrained(MODEL_DIR)"
   ]
  },
  {
   "cell_type": "code",
   "execution_count": 15,
   "id": "f3e8900c-3d0d-4f20-aaef-bc0804dcf093",
   "metadata": {},
   "outputs": [
    {
     "name": "stderr",
     "output_type": "stream",
     "text": [
      "Special tokens have been added in the vocabulary, make sure the associated word embeddings are fine-tuned or trained.\n"
     ]
    },
    {
     "data": {
      "text/plain": [
       "('/Users/vasilyperekhrest/PycharmProjects/malware-detection-system/model/tokenizer_config.json',\n",
       " '/Users/vasilyperekhrest/PycharmProjects/malware-detection-system/model/special_tokens_map.json',\n",
       " '/Users/vasilyperekhrest/PycharmProjects/malware-detection-system/model/vocab.txt',\n",
       " '/Users/vasilyperekhrest/PycharmProjects/malware-detection-system/model/added_tokens.json',\n",
       " '/Users/vasilyperekhrest/PycharmProjects/malware-detection-system/model/tokenizer.json')"
      ]
     },
     "execution_count": 15,
     "metadata": {},
     "output_type": "execute_result"
    }
   ],
   "source": [
    "tokenizer = LongformerTokenizerFast.from_pretrained('kazzand/ru-longformer-tiny-16384')\n",
    "tokenizer.save_pretrained(MODEL_DIR)"
   ]
  },
  {
   "cell_type": "code",
   "execution_count": 17,
   "id": "569eb812-2163-4d00-8d3a-58daf2d39931",
   "metadata": {},
   "outputs": [
    {
     "data": {
      "text/plain": [
       "['/Users/vasilyperekhrest/PycharmProjects/malware-detection-system/model/preprocessor_config.json']"
      ]
     },
     "execution_count": 17,
     "metadata": {},
     "output_type": "execute_result"
    }
   ],
   "source": [
    "preprocessor_config = {\n",
    "    \"crop_pct\": 0.875,\n",
    "    \"do_normalize\": True,\n",
    "    \"do_rescale\": True,\n",
    "    \"do_resize\": True,\n",
    "    \"feature_extractor_type\": \"ConvNextFeatureExtractor\",\n",
    "    \"image_mean\": 0.356,\n",
    "    \"image_processor_type\": \"ConvNextImageProcessor\",\n",
    "    \"image_std\": 0.332,\n",
    "    \"resample\": 3,\n",
    "    \"rescale_factor\": 0.00392156862745098,\n",
    "    \"size\": {\n",
    "        \"shortest_edge\": 224\n",
    "    }\n",
    "}\n",
    "image_processor = ConvNextImageProcessor(preprocessor_config)\n",
    "image_processor.save_pretrained(MODEL_DIR)"
   ]
  }
 ],
 "metadata": {
  "kernelspec": {
   "display_name": "Python 3 (ipykernel)",
   "language": "python",
   "name": "python3"
  },
  "language_info": {
   "codemirror_mode": {
    "name": "ipython",
    "version": 3
   },
   "file_extension": ".py",
   "mimetype": "text/x-python",
   "name": "python",
   "nbconvert_exporter": "python",
   "pygments_lexer": "ipython3",
   "version": "3.9.16"
  }
 },
 "nbformat": 4,
 "nbformat_minor": 5
}
