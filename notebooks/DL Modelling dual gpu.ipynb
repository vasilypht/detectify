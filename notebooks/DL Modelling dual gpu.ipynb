{
 "cells": [
  {
   "cell_type": "code",
   "execution_count": 1,
   "metadata": {
    "_cell_guid": "b1076dfc-b9ad-4769-8c92-a6c4dae69d19",
    "_uuid": "8f2839f25d086af736a60e9eeb907d3b93b6e0e5",
    "execution": {
     "iopub.execute_input": "2023-11-03T15:05:50.445504Z",
     "iopub.status.busy": "2023-11-03T15:05:50.444775Z",
     "iopub.status.idle": "2023-11-03T15:05:56.912655Z",
     "shell.execute_reply": "2023-11-03T15:05:56.911670Z",
     "shell.execute_reply.started": "2023-11-03T15:05:50.445460Z"
    }
   },
   "outputs": [
    {
     "name": "stderr",
     "output_type": "stream",
     "text": [
      "/opt/conda/lib/python3.10/site-packages/scipy/__init__.py:146: UserWarning: A NumPy version >=1.16.5 and <1.23.0 is required for this version of SciPy (detected version 1.23.5\n",
      "  warnings.warn(f\"A NumPy version >={np_minversion} and <{np_maxversion}\"\n"
     ]
    }
   ],
   "source": [
    "import json\n",
    "from pprint import pprint\n",
    "from pathlib import Path\n",
    "from typing import Union\n",
    "\n",
    "import numpy as np\n",
    "import pandas as pd\n",
    "import torch\n",
    "from torch import nn\n",
    "from more_itertools import batched\n",
    "from torch.utils.data import (\n",
    "    DataLoader,\n",
    "    Dataset,\n",
    ")\n",
    "from transformers import (\n",
    "    AutoTokenizer,\n",
    "    AutoModel,\n",
    "    LongformerTokenizerFast,\n",
    "    LongformerModel,\n",
    "    AutoImageProcessor,\n",
    "    ResNetModel,\n",
    "    ResNetConfig,\n",
    ")\n",
    "from sklearn.metrics import (\n",
    "    classification_report,\n",
    "    confusion_matrix,\n",
    "    ConfusionMatrixDisplay,\n",
    "    accuracy_score,\n",
    "    f1_score,\n",
    ")\n",
    "from tqdm import tqdm\n",
    "from accelerate.utils import set_seed\n",
    "from accelerate import Accelerator, notebook_launcher"
   ]
  },
  {
   "cell_type": "code",
   "execution_count": null,
   "metadata": {},
   "outputs": [],
   "source": []
  },
  {
   "cell_type": "code",
   "execution_count": 25,
   "metadata": {
    "execution": {
     "iopub.execute_input": "2023-11-03T18:18:21.547994Z",
     "iopub.status.busy": "2023-11-03T18:18:21.547576Z",
     "iopub.status.idle": "2023-11-03T18:18:21.555793Z",
     "shell.execute_reply": "2023-11-03T18:18:21.554685Z",
     "shell.execute_reply.started": "2023-11-03T18:18:21.547955Z"
    }
   },
   "outputs": [],
   "source": [
    "DATASET_DIR = Path('/kaggle/input/dataset-v1-1')\n",
    "\n",
    "DATA_DIR = Path('/kaggle/input/windows-pe-dataset')\n",
    "MODEL_DIR = Path('/kaggle/working/') / 'model'\n",
    "MODEL_DIR.mkdir(exist_ok=True, parents=True)\n",
    "\n",
    "EXE_DIR = DATA_DIR / 'pe' / 'pe'\n",
    "MALWARE_EXE_DIR = EXE_DIR / 'malware'\n",
    "BENIGN_EXE_DIR = EXE_DIR / 'benign'\n",
    "\n",
    "CHECKPOINTS_DIR = Path('/kaggle/working/') / 'checkpoints'\n",
    "CHECKPOINTS_DIR.mkdir(exist_ok=True, parents=True)\n",
    "\n",
    "RANDOM_STATE = 741\n",
    "\n",
    "TRAIN_BATCH_SIZE = 6\n",
    "VALID_BATCH_SIZE = 6\n",
    "TEST_BATCH_SIZE = 4\n",
    "\n",
    "LEARNING_RATE = 2e-5\n",
    "\n",
    "#DEVICE = torch.device('cuda:0') if torch.cuda.is_available() else torch.device('cpu')\n",
    "\n",
    "LIMIT_NUM_MODELS = 2\n",
    "N_EPOCHS = 15"
   ]
  },
  {
   "cell_type": "code",
   "execution_count": 3,
   "metadata": {
    "execution": {
     "iopub.execute_input": "2023-11-03T15:05:56.926388Z",
     "iopub.status.busy": "2023-11-03T15:05:56.926051Z",
     "iopub.status.idle": "2023-11-03T15:05:57.730816Z",
     "shell.execute_reply": "2023-11-03T15:05:57.729910Z",
     "shell.execute_reply.started": "2023-11-03T15:05:56.926353Z"
    }
   },
   "outputs": [],
   "source": [
    "df_train = pd.read_parquet(DATASET_DIR / 'df_train_chunks.parquet')\n",
    "df_valid = pd.read_parquet(DATASET_DIR / 'df_valid_chunks.parquet')\n",
    "df_test = pd.read_parquet(DATASET_DIR / 'df_test_chunks.parquet')"
   ]
  },
  {
   "cell_type": "code",
   "execution_count": 4,
   "metadata": {
    "execution": {
     "iopub.execute_input": "2023-11-03T15:05:57.733483Z",
     "iopub.status.busy": "2023-11-03T15:05:57.733171Z",
     "iopub.status.idle": "2023-11-03T15:05:57.744306Z",
     "shell.execute_reply": "2023-11-03T15:05:57.743385Z",
     "shell.execute_reply.started": "2023-11-03T15:05:57.733451Z"
    }
   },
   "outputs": [],
   "source": [
    "class MalwareDetectionModel(torch.nn.Module):\n",
    "    def __init__(\n",
    "            self,\n",
    "            num_classes: int = 2,\n",
    "    ) -> None:\n",
    "        super(MalwareDetectionModel, self).__init__()\n",
    "        resnet_config = ResNetConfig(num_channels=1, torch_dtype=torch.float32)\n",
    "        self.resnet_model = ResNetModel(resnet_config)\n",
    "        self.longformer_model = AutoModel.from_pretrained('kazzand/ru-longformer-tiny-16384')\n",
    "        for param in self.longformer_model.base_model.parameters():\n",
    "            param.requires_grad = False\n",
    "\n",
    "        in_features = self.resnet_model.config.hidden_sizes[-1] + self.longformer_model.config.hidden_size\n",
    "\n",
    "        self.linear = torch.nn.Linear(in_features, 312)\n",
    "        self.fc = torch.nn.Linear(312, num_classes)\n",
    "\n",
    "\n",
    "    def forward(\n",
    "            self,\n",
    "            longformer_input_ids,\n",
    "            longformer_attention_mask,\n",
    "            longformer_global_attention_mask,\n",
    "            resnet_pixel_values,\n",
    "    ):\n",
    "        resnet_pooler_output = self.resnet_model(pixel_values=resnet_pixel_values).pooler_output\n",
    "        resnet_flatten_pooler_output = resnet_pooler_output.flatten(start_dim=1)\n",
    "\n",
    "        longformer_pooler_output = self.longformer_model(\n",
    "            input_ids=longformer_input_ids,\n",
    "            attention_mask=longformer_attention_mask,\n",
    "            global_attention_mask=longformer_global_attention_mask,\n",
    "        ).pooler_output\n",
    "\n",
    "\n",
    "        concated_outputs = torch.concat([resnet_flatten_pooler_output, longformer_pooler_output], dim=1)\n",
    "        logits = torch.relu(self.linear(concated_outputs))\n",
    "        logits = self.fc(logits)\n",
    "        return logits\n"
   ]
  },
  {
   "cell_type": "code",
   "execution_count": 5,
   "metadata": {
    "execution": {
     "iopub.execute_input": "2023-11-03T15:05:57.745547Z",
     "iopub.status.busy": "2023-11-03T15:05:57.745273Z",
     "iopub.status.idle": "2023-11-03T15:05:57.764353Z",
     "shell.execute_reply": "2023-11-03T15:05:57.763290Z",
     "shell.execute_reply.started": "2023-11-03T15:05:57.745523Z"
    }
   },
   "outputs": [],
   "source": [
    "preprocess_config = '''\n",
    "{\n",
    "  \"crop_pct\": 0.875,\n",
    "  \"do_normalize\": true,\n",
    "  \"do_rescale\": true,\n",
    "  \"do_resize\": true,\n",
    "  \"feature_extractor_type\": \"ConvNextFeatureExtractor\",\n",
    "  \"image_mean\": 0.356,\n",
    "  \"image_processor_type\": \"ConvNextImageProcessor\",\n",
    "  \"image_std\": 0.332,\n",
    "  \"resample\": 3,\n",
    "  \"rescale_factor\": 0.00392156862745098,\n",
    "  \"size\": {\n",
    "    \"shortest_edge\": 224\n",
    "  }\n",
    "}\n",
    "'''\n",
    "\n",
    "with open(MODEL_DIR / 'preprocessor_config.json', 'w') as f:\n",
    "    f.write(preprocess_config)"
   ]
  },
  {
   "cell_type": "code",
   "execution_count": 6,
   "metadata": {
    "execution": {
     "iopub.execute_input": "2023-11-03T15:05:57.765871Z",
     "iopub.status.busy": "2023-11-03T15:05:57.765599Z",
     "iopub.status.idle": "2023-11-03T15:05:57.780304Z",
     "shell.execute_reply": "2023-11-03T15:05:57.779469Z",
     "shell.execute_reply.started": "2023-11-03T15:05:57.765848Z"
    }
   },
   "outputs": [],
   "source": [
    "class MalwareDetectionDataset(Dataset):\n",
    "    def __init__(\n",
    "            self,\n",
    "            df: pd.DataFrame,\n",
    "            image_processor: Union[str, Path] = MODEL_DIR,\n",
    "            longformer_tokenizer: Union[str, Path] = 'kazzand/ru-longformer-tiny-16384',\n",
    "            with_hashes: bool = False,\n",
    "    ):\n",
    "        super(MalwareDetectionDataset, self).__init__()\n",
    "        self._df = df\n",
    "        \n",
    "        self.with_hashes = with_hashes\n",
    "        self.image_processor = AutoImageProcessor.from_pretrained(image_processor)\n",
    "        self.longformer_tokenizer = LongformerTokenizerFast.from_pretrained(longformer_tokenizer)\n",
    "\n",
    "    def __len__(self):\n",
    "        return self._df.shape[0]\n",
    "\n",
    "    def __getitem__(self, item):\n",
    "        row = self._df.iloc[item]\n",
    "\n",
    "        if row.LABEL == 'malware':\n",
    "            exe_path = MALWARE_EXE_DIR\n",
    "        elif row.LABEL == 'benign':\n",
    "            exe_path = BENIGN_EXE_DIR\n",
    "        else:\n",
    "            raise NotImplementedError()\n",
    "\n",
    "        exe_file = exe_path / f'{row.HASH}.exe'\n",
    "        if not exe_file.exists():\n",
    "            exe_file = exe_path / f'{row.HASH}.ole'\n",
    "\n",
    "        with exe_file.open('rb') as _file:\n",
    "            data = list(_file.read(224 * 224))\n",
    "\n",
    "        padding = [0] * (224*224 - len(data))\n",
    "        data.extend(padding)\n",
    "\n",
    "        img = torch.reshape(\n",
    "            input=torch.tensor(data, dtype=torch.uint8),\n",
    "            shape=(1, 224, 224),\n",
    "        )\n",
    "        pixel_values = self.image_processor(img, return_tensors=\"pt\").pixel_values\n",
    "\n",
    "        # NLP\n",
    "        inputs = self.longformer_tokenizer(\n",
    "            row.TEXT,\n",
    "            add_special_tokens=True,\n",
    "            return_attention_mask=True,\n",
    "            max_length=16_384,\n",
    "            padding='max_length',\n",
    "            truncation=True,\n",
    "            return_tensors='pt',\n",
    "        )\n",
    "\n",
    "        global_attention_mask = [\n",
    "            [1 if token_id == self.longformer_tokenizer.cls_token_id else 0 for token_id in input_ids]\n",
    "            for input_ids in inputs[\"input_ids\"]\n",
    "        ]\n",
    "\n",
    "        inputs[\"global_attention_mask\"] = torch.tensor(global_attention_mask)\n",
    "\n",
    "\n",
    "        result = {\n",
    "            'longformer_input_ids': inputs['input_ids'].flatten(),\n",
    "            'longformer_attention_mask': inputs['attention_mask'].flatten(),\n",
    "            'longformer_global_attention_mask': inputs['global_attention_mask'].flatten(),\n",
    "            'resnet_pixel_values': pixel_values.flatten(1, 2),\n",
    "            'labels': torch.tensor(row.LABEL_ID, dtype=torch.long),\n",
    "        }\n",
    "        \n",
    "        if self.with_hashes:\n",
    "            result['hash'] = row.HASH\n",
    "        \n",
    "        return result\n"
   ]
  },
  {
   "cell_type": "code",
   "execution_count": 7,
   "metadata": {
    "execution": {
     "iopub.execute_input": "2023-11-03T15:05:57.782140Z",
     "iopub.status.busy": "2023-11-03T15:05:57.781846Z",
     "iopub.status.idle": "2023-11-03T15:05:58.219399Z",
     "shell.execute_reply": "2023-11-03T15:05:58.218595Z",
     "shell.execute_reply.started": "2023-11-03T15:05:57.782117Z"
    }
   },
   "outputs": [],
   "source": [
    "train_dataset = MalwareDetectionDataset(df_train)\n",
    "valid_dataset = MalwareDetectionDataset(df_valid)\n",
    "test_dataset = MalwareDetectionDataset(df_test, with_hashes=True)"
   ]
  },
  {
   "cell_type": "code",
   "execution_count": 8,
   "metadata": {
    "execution": {
     "iopub.execute_input": "2023-11-03T15:05:58.221259Z",
     "iopub.status.busy": "2023-11-03T15:05:58.220971Z",
     "iopub.status.idle": "2023-11-03T15:05:58.237079Z",
     "shell.execute_reply": "2023-11-03T15:05:58.235775Z",
     "shell.execute_reply.started": "2023-11-03T15:05:58.221234Z"
    }
   },
   "outputs": [],
   "source": [
    "def training_loop(\n",
    "    mixed_precision: str = \"fp16\",\n",
    "    random_state: int = RANDOM_STATE,\n",
    "    batch_size: int = TRAIN_BATCH_SIZE,\n",
    "    n_epochs: int = N_EPOCHS,\n",
    "):\n",
    "    set_seed(random_state)\n",
    "    \n",
    "    accelerator = Accelerator(mixed_precision=mixed_precision)\n",
    "    \n",
    "    train_dataloader = DataLoader(\n",
    "        train_dataset,\n",
    "        batch_size=TRAIN_BATCH_SIZE,\n",
    "        generator=torch.manual_seed(random_state),\n",
    "        shuffle=True,\n",
    "    )\n",
    "    valid_dataloader = DataLoader(\n",
    "        valid_dataset,\n",
    "        batch_size=VALID_BATCH_SIZE,\n",
    "        generator=torch.manual_seed(random_state),\n",
    "        shuffle=True,\n",
    "    )\n",
    "    \n",
    "    with accelerator.main_process_first():\n",
    "        model = MalwareDetectionModel(num_classes=2)\n",
    "    \n",
    "    \n",
    "    optimizer = torch.optim.AdamW(params=model.parameters(), lr=LEARNING_RATE)\n",
    "    scheduler = torch.optim.lr_scheduler.CosineAnnealingWarmRestarts(optimizer,\n",
    "                                                                     T_0=8,\n",
    "                                                                     T_mult=1,\n",
    "                                                                     eta_min=1e-7)\n",
    "    \n",
    "    (model,\n",
    "     optimizer,\n",
    "     train_dataloader,\n",
    "     valid_dataloader,\n",
    "     scheduler) = accelerator.prepare(model,\n",
    "                                      optimizer,\n",
    "                                      train_dataloader,\n",
    "                                      valid_dataloader,\n",
    "                                      scheduler)\n",
    "    \n",
    "    loss_stats = {\n",
    "        'train': [],\n",
    "        'valid': [],\n",
    "    }\n",
    "\n",
    "    min_valid_loss = float('inf')\n",
    "    saved_model_paths = []\n",
    "    \n",
    "    for epoch in range(1, n_epochs):\n",
    "        model.train()\n",
    "        train_loss = []\n",
    "        for batch in train_dataloader:\n",
    "            optimizer.zero_grad()\n",
    "            labels = batch[\"labels\"]\n",
    "            del batch[\"labels\"]\n",
    "            logits = model(**batch)\n",
    "            loss = torch.nn.functional.cross_entropy(logits, labels)\n",
    "            \n",
    "            accelerator.backward(loss)\n",
    "            \n",
    "            optimizer.step()\n",
    "            scheduler.step()\n",
    "            \n",
    "            train_loss.append(loss.item())\n",
    "            \n",
    "        model.eval()\n",
    "        valid_loss = []\n",
    "        for batch in valid_dataloader:\n",
    "            with torch.no_grad():\n",
    "                labels = batch[\"labels\"]\n",
    "                del batch[\"labels\"]\n",
    "                logits = model(**batch)\n",
    "                loss = torch.nn.functional.cross_entropy(logits, labels)\n",
    "                \n",
    "                valid_loss.append(loss.item())\n",
    "        \n",
    "        loss_stats['train'].append(np.mean(train_loss))\n",
    "        loss_stats['valid'].append(np.mean(valid_loss))\n",
    "        \n",
    "        if loss_stats['valid'][-1] < min_valid_loss:\n",
    "            min_valid_loss = loss_stats['valid'][-1]\n",
    "\n",
    "            model_name = CHECKPOINTS_DIR / f'model-{epoch}-epoch.pt'\n",
    "            \n",
    "            accelerator.wait_for_everyone() \n",
    "            unwrapped_model = accelerator.unwrap_model(model)\n",
    "            accelerator.save(unwrapped_model,  str(model_name))\n",
    "            accelerator.print(f'Saved model: {model_name}')\n",
    "\n",
    "\n",
    "            saved_model_paths.append(model_name)\n",
    "        \n",
    "        accelerator.print(f'''{'EPOCH: ' + str(epoch):-^50}''')\n",
    "        accelerator.print(f'''Loss:''')\n",
    "        accelerator.print(f'''    Train: {loss_stats['train'][-1]:.5f}''')\n",
    "        accelerator.print(f'''    Valid: {loss_stats['valid'][-1]:.5f}''')\n",
    "        accelerator.print('-' * 50, end='\\n\\n')"
   ]
  },
  {
   "cell_type": "code",
   "execution_count": 9,
   "metadata": {
    "execution": {
     "iopub.execute_input": "2023-11-03T15:05:58.238649Z",
     "iopub.status.busy": "2023-11-03T15:05:58.238371Z",
     "iopub.status.idle": "2023-11-03T18:10:42.972382Z",
     "shell.execute_reply": "2023-11-03T18:10:42.970643Z",
     "shell.execute_reply.started": "2023-11-03T15:05:58.238627Z"
    }
   },
   "outputs": [
    {
     "name": "stdout",
     "output_type": "stream",
     "text": [
      "Launching training on 2 GPUs.\n"
     ]
    },
    {
     "name": "stderr",
     "output_type": "stream",
     "text": [
      "Some weights of LongformerModel were not initialized from the model checkpoint at kazzand/ru-longformer-tiny-16384 and are newly initialized: ['longformer.pooler.dense.bias', 'longformer.pooler.dense.weight']\n",
      "You should probably TRAIN this model on a down-stream task to be able to use it for predictions and inference.\n",
      "Some weights of LongformerModel were not initialized from the model checkpoint at kazzand/ru-longformer-tiny-16384 and are newly initialized: ['longformer.pooler.dense.bias', 'longformer.pooler.dense.weight']\n",
      "You should probably TRAIN this model on a down-stream task to be able to use it for predictions and inference.\n"
     ]
    },
    {
     "name": "stdout",
     "output_type": "stream",
     "text": [
      "Saved model: /kaggle/working/checkpoints/model-1-epoch.pt\n",
      "---------------------EPOCH: 1---------------------\n",
      "Loss:\n",
      "    Train: 0.35514\n",
      "    Valid: 0.24979\n",
      "--------------------------------------------------\n",
      "\n",
      "Saved model: /kaggle/working/checkpoints/model-2-epoch.pt\n",
      "---------------------EPOCH: 2---------------------\n",
      "Loss:\n",
      "    Train: 0.21950\n",
      "    Valid: 0.20233\n",
      "--------------------------------------------------\n",
      "\n",
      "Saved model: /kaggle/working/checkpoints/model-3-epoch.pt\n",
      "---------------------EPOCH: 3---------------------\n",
      "Loss:\n",
      "    Train: 0.14844\n",
      "    Valid: 0.13936\n",
      "--------------------------------------------------\n",
      "\n",
      "Saved model: /kaggle/working/checkpoints/model-4-epoch.pt\n",
      "---------------------EPOCH: 4---------------------\n",
      "Loss:\n",
      "    Train: 0.13398\n",
      "    Valid: 0.10199\n",
      "--------------------------------------------------\n",
      "\n",
      "Saved model: /kaggle/working/checkpoints/model-5-epoch.pt\n",
      "---------------------EPOCH: 5---------------------\n",
      "Loss:\n",
      "    Train: 0.11606\n",
      "    Valid: 0.09077\n",
      "--------------------------------------------------\n",
      "\n",
      "---------------------EPOCH: 6---------------------\n",
      "Loss:\n",
      "    Train: 0.10369\n",
      "    Valid: 0.13397\n",
      "--------------------------------------------------\n",
      "\n",
      "Saved model: /kaggle/working/checkpoints/model-7-epoch.pt\n",
      "---------------------EPOCH: 7---------------------\n",
      "Loss:\n",
      "    Train: 0.09276\n",
      "    Valid: 0.04455\n",
      "--------------------------------------------------\n",
      "\n"
     ]
    },
    {
     "ename": "KeyboardInterrupt",
     "evalue": "",
     "output_type": "error",
     "traceback": [
      "\u001b[0;31m---------------------------------------------------------------------------\u001b[0m",
      "\u001b[0;31mKeyboardInterrupt\u001b[0m                         Traceback (most recent call last)",
      "Cell \u001b[0;32mIn[9], line 1\u001b[0m\n\u001b[0;32m----> 1\u001b[0m \u001b[43mnotebook_launcher\u001b[49m\u001b[43m(\u001b[49m\u001b[43mtraining_loop\u001b[49m\u001b[43m,\u001b[49m\u001b[43m \u001b[49m\u001b[43mnum_processes\u001b[49m\u001b[38;5;241;43m=\u001b[39;49m\u001b[38;5;241;43m2\u001b[39;49m\u001b[43m)\u001b[49m\n",
      "File \u001b[0;32m/opt/conda/lib/python3.10/site-packages/accelerate/launchers.py:154\u001b[0m, in \u001b[0;36mnotebook_launcher\u001b[0;34m(function, args, num_processes, mixed_precision, use_port)\u001b[0m\n\u001b[1;32m    152\u001b[0m \u001b[38;5;28mprint\u001b[39m(\u001b[38;5;124mf\u001b[39m\u001b[38;5;124m\"\u001b[39m\u001b[38;5;124mLaunching training on \u001b[39m\u001b[38;5;132;01m{\u001b[39;00mnum_processes\u001b[38;5;132;01m}\u001b[39;00m\u001b[38;5;124m GPUs.\u001b[39m\u001b[38;5;124m\"\u001b[39m)\n\u001b[1;32m    153\u001b[0m \u001b[38;5;28;01mtry\u001b[39;00m:\n\u001b[0;32m--> 154\u001b[0m     \u001b[43mstart_processes\u001b[49m\u001b[43m(\u001b[49m\u001b[43mlauncher\u001b[49m\u001b[43m,\u001b[49m\u001b[43m \u001b[49m\u001b[43margs\u001b[49m\u001b[38;5;241;43m=\u001b[39;49m\u001b[43margs\u001b[49m\u001b[43m,\u001b[49m\u001b[43m \u001b[49m\u001b[43mnprocs\u001b[49m\u001b[38;5;241;43m=\u001b[39;49m\u001b[43mnum_processes\u001b[49m\u001b[43m,\u001b[49m\u001b[43m \u001b[49m\u001b[43mstart_method\u001b[49m\u001b[38;5;241;43m=\u001b[39;49m\u001b[38;5;124;43m\"\u001b[39;49m\u001b[38;5;124;43mfork\u001b[39;49m\u001b[38;5;124;43m\"\u001b[39;49m\u001b[43m)\u001b[49m\n\u001b[1;32m    155\u001b[0m \u001b[38;5;28;01mexcept\u001b[39;00m ProcessRaisedException \u001b[38;5;28;01mas\u001b[39;00m e:\n\u001b[1;32m    156\u001b[0m     \u001b[38;5;28;01mif\u001b[39;00m \u001b[38;5;124m\"\u001b[39m\u001b[38;5;124mCannot re-initialize CUDA in forked subprocess\u001b[39m\u001b[38;5;124m\"\u001b[39m \u001b[38;5;129;01min\u001b[39;00m e\u001b[38;5;241m.\u001b[39margs[\u001b[38;5;241m0\u001b[39m]:\n",
      "File \u001b[0;32m/opt/conda/lib/python3.10/site-packages/torch/multiprocessing/spawn.py:197\u001b[0m, in \u001b[0;36mstart_processes\u001b[0;34m(fn, args, nprocs, join, daemon, start_method)\u001b[0m\n\u001b[1;32m    194\u001b[0m     \u001b[38;5;28;01mreturn\u001b[39;00m context\n\u001b[1;32m    196\u001b[0m \u001b[38;5;66;03m# Loop on join until it returns True or raises an exception.\u001b[39;00m\n\u001b[0;32m--> 197\u001b[0m \u001b[38;5;28;01mwhile\u001b[39;00m \u001b[38;5;129;01mnot\u001b[39;00m \u001b[43mcontext\u001b[49m\u001b[38;5;241;43m.\u001b[39;49m\u001b[43mjoin\u001b[49m\u001b[43m(\u001b[49m\u001b[43m)\u001b[49m:\n\u001b[1;32m    198\u001b[0m     \u001b[38;5;28;01mpass\u001b[39;00m\n",
      "File \u001b[0;32m/opt/conda/lib/python3.10/site-packages/torch/multiprocessing/spawn.py:109\u001b[0m, in \u001b[0;36mProcessContext.join\u001b[0;34m(self, timeout)\u001b[0m\n\u001b[1;32m    106\u001b[0m     \u001b[38;5;28;01mreturn\u001b[39;00m \u001b[38;5;28;01mTrue\u001b[39;00m\n\u001b[1;32m    108\u001b[0m \u001b[38;5;66;03m# Wait for any process to fail or all of them to succeed.\u001b[39;00m\n\u001b[0;32m--> 109\u001b[0m ready \u001b[38;5;241m=\u001b[39m \u001b[43mmultiprocessing\u001b[49m\u001b[38;5;241;43m.\u001b[39;49m\u001b[43mconnection\u001b[49m\u001b[38;5;241;43m.\u001b[39;49m\u001b[43mwait\u001b[49m\u001b[43m(\u001b[49m\n\u001b[1;32m    110\u001b[0m \u001b[43m    \u001b[49m\u001b[38;5;28;43mself\u001b[39;49m\u001b[38;5;241;43m.\u001b[39;49m\u001b[43msentinels\u001b[49m\u001b[38;5;241;43m.\u001b[39;49m\u001b[43mkeys\u001b[49m\u001b[43m(\u001b[49m\u001b[43m)\u001b[49m\u001b[43m,\u001b[49m\n\u001b[1;32m    111\u001b[0m \u001b[43m    \u001b[49m\u001b[43mtimeout\u001b[49m\u001b[38;5;241;43m=\u001b[39;49m\u001b[43mtimeout\u001b[49m\u001b[43m,\u001b[49m\n\u001b[1;32m    112\u001b[0m \u001b[43m\u001b[49m\u001b[43m)\u001b[49m\n\u001b[1;32m    114\u001b[0m error_index \u001b[38;5;241m=\u001b[39m \u001b[38;5;28;01mNone\u001b[39;00m\n\u001b[1;32m    115\u001b[0m \u001b[38;5;28;01mfor\u001b[39;00m sentinel \u001b[38;5;129;01min\u001b[39;00m ready:\n",
      "File \u001b[0;32m/opt/conda/lib/python3.10/multiprocessing/connection.py:931\u001b[0m, in \u001b[0;36mwait\u001b[0;34m(object_list, timeout)\u001b[0m\n\u001b[1;32m    928\u001b[0m     deadline \u001b[38;5;241m=\u001b[39m time\u001b[38;5;241m.\u001b[39mmonotonic() \u001b[38;5;241m+\u001b[39m timeout\n\u001b[1;32m    930\u001b[0m \u001b[38;5;28;01mwhile\u001b[39;00m \u001b[38;5;28;01mTrue\u001b[39;00m:\n\u001b[0;32m--> 931\u001b[0m     ready \u001b[38;5;241m=\u001b[39m \u001b[43mselector\u001b[49m\u001b[38;5;241;43m.\u001b[39;49m\u001b[43mselect\u001b[49m\u001b[43m(\u001b[49m\u001b[43mtimeout\u001b[49m\u001b[43m)\u001b[49m\n\u001b[1;32m    932\u001b[0m     \u001b[38;5;28;01mif\u001b[39;00m ready:\n\u001b[1;32m    933\u001b[0m         \u001b[38;5;28;01mreturn\u001b[39;00m [key\u001b[38;5;241m.\u001b[39mfileobj \u001b[38;5;28;01mfor\u001b[39;00m (key, events) \u001b[38;5;129;01min\u001b[39;00m ready]\n",
      "File \u001b[0;32m/opt/conda/lib/python3.10/selectors.py:416\u001b[0m, in \u001b[0;36m_PollLikeSelector.select\u001b[0;34m(self, timeout)\u001b[0m\n\u001b[1;32m    414\u001b[0m ready \u001b[38;5;241m=\u001b[39m []\n\u001b[1;32m    415\u001b[0m \u001b[38;5;28;01mtry\u001b[39;00m:\n\u001b[0;32m--> 416\u001b[0m     fd_event_list \u001b[38;5;241m=\u001b[39m \u001b[38;5;28;43mself\u001b[39;49m\u001b[38;5;241;43m.\u001b[39;49m\u001b[43m_selector\u001b[49m\u001b[38;5;241;43m.\u001b[39;49m\u001b[43mpoll\u001b[49m\u001b[43m(\u001b[49m\u001b[43mtimeout\u001b[49m\u001b[43m)\u001b[49m\n\u001b[1;32m    417\u001b[0m \u001b[38;5;28;01mexcept\u001b[39;00m \u001b[38;5;167;01mInterruptedError\u001b[39;00m:\n\u001b[1;32m    418\u001b[0m     \u001b[38;5;28;01mreturn\u001b[39;00m ready\n",
      "\u001b[0;31mKeyboardInterrupt\u001b[0m: "
     ]
    }
   ],
   "source": [
    "notebook_launcher(training_loop, num_processes=2)"
   ]
  },
  {
   "cell_type": "code",
   "execution_count": 11,
   "metadata": {
    "execution": {
     "iopub.execute_input": "2023-11-03T18:10:52.946172Z",
     "iopub.status.busy": "2023-11-03T18:10:52.945804Z",
     "iopub.status.idle": "2023-11-03T18:10:57.226080Z",
     "shell.execute_reply": "2023-11-03T18:10:57.224783Z",
     "shell.execute_reply.started": "2023-11-03T18:10:52.946142Z"
    }
   },
   "outputs": [
    {
     "name": "stderr",
     "output_type": "stream",
     "text": [
      "Some weights of LongformerModel were not initialized from the model checkpoint at kazzand/ru-longformer-tiny-16384 and are newly initialized: ['longformer.pooler.dense.bias', 'longformer.pooler.dense.weight']\n",
      "You should probably TRAIN this model on a down-stream task to be able to use it for predictions and inference.\n"
     ]
    },
    {
     "ename": "TypeError",
     "evalue": "Expected state_dict to be dict-like, got <class '__main__.MalwareDetectionModel'>.",
     "output_type": "error",
     "traceback": [
      "\u001b[0;31m---------------------------------------------------------------------------\u001b[0m",
      "\u001b[0;31mTypeError\u001b[0m                                 Traceback (most recent call last)",
      "Cell \u001b[0;32mIn[11], line 2\u001b[0m\n\u001b[1;32m      1\u001b[0m model \u001b[38;5;241m=\u001b[39m MalwareDetectionModel(num_classes\u001b[38;5;241m=\u001b[39m\u001b[38;5;241m2\u001b[39m)\n\u001b[0;32m----> 2\u001b[0m \u001b[43mmodel\u001b[49m\u001b[38;5;241;43m.\u001b[39;49m\u001b[43mload_state_dict\u001b[49m\u001b[43m(\u001b[49m\u001b[43mtorch\u001b[49m\u001b[38;5;241;43m.\u001b[39;49m\u001b[43mload\u001b[49m\u001b[43m(\u001b[49m\u001b[38;5;124;43m'\u001b[39;49m\u001b[38;5;124;43m/kaggle/working/checkpoints/model-7-epoch.pt\u001b[39;49m\u001b[38;5;124;43m'\u001b[39;49m\u001b[43m)\u001b[49m\u001b[43m)\u001b[49m\n\u001b[1;32m      3\u001b[0m model \u001b[38;5;241m=\u001b[39m model\u001b[38;5;241m.\u001b[39mto(\u001b[38;5;124m'\u001b[39m\u001b[38;5;124mcuda:0\u001b[39m\u001b[38;5;124m'\u001b[39m)\n",
      "File \u001b[0;32m/opt/conda/lib/python3.10/site-packages/torch/nn/modules/module.py:1994\u001b[0m, in \u001b[0;36mModule.load_state_dict\u001b[0;34m(self, state_dict, strict)\u001b[0m\n\u001b[1;32m   1971\u001b[0m \u001b[38;5;250m\u001b[39m\u001b[38;5;124mr\u001b[39m\u001b[38;5;124;03m\"\"\"Copies parameters and buffers from :attr:`state_dict` into\u001b[39;00m\n\u001b[1;32m   1972\u001b[0m \u001b[38;5;124;03mthis module and its descendants. If :attr:`strict` is ``True``, then\u001b[39;00m\n\u001b[1;32m   1973\u001b[0m \u001b[38;5;124;03mthe keys of :attr:`state_dict` must exactly match the keys returned\u001b[39;00m\n\u001b[0;32m   (...)\u001b[0m\n\u001b[1;32m   1991\u001b[0m \u001b[38;5;124;03m    ``RuntimeError``.\u001b[39;00m\n\u001b[1;32m   1992\u001b[0m \u001b[38;5;124;03m\"\"\"\u001b[39;00m\n\u001b[1;32m   1993\u001b[0m \u001b[38;5;28;01mif\u001b[39;00m \u001b[38;5;129;01mnot\u001b[39;00m \u001b[38;5;28misinstance\u001b[39m(state_dict, Mapping):\n\u001b[0;32m-> 1994\u001b[0m     \u001b[38;5;28;01mraise\u001b[39;00m \u001b[38;5;167;01mTypeError\u001b[39;00m(\u001b[38;5;124m\"\u001b[39m\u001b[38;5;124mExpected state_dict to be dict-like, got \u001b[39m\u001b[38;5;132;01m{}\u001b[39;00m\u001b[38;5;124m.\u001b[39m\u001b[38;5;124m\"\u001b[39m\u001b[38;5;241m.\u001b[39mformat(\u001b[38;5;28mtype\u001b[39m(state_dict)))\n\u001b[1;32m   1996\u001b[0m missing_keys: List[\u001b[38;5;28mstr\u001b[39m] \u001b[38;5;241m=\u001b[39m []\n\u001b[1;32m   1997\u001b[0m unexpected_keys: List[\u001b[38;5;28mstr\u001b[39m] \u001b[38;5;241m=\u001b[39m []\n",
      "\u001b[0;31mTypeError\u001b[0m: Expected state_dict to be dict-like, got <class '__main__.MalwareDetectionModel'>."
     ]
    }
   ],
   "source": [
    "model = MalwareDetectionModel(num_classes=2)\n",
    "model.load_state_dict(torch.load('/kaggle/working/checkpoints/model-7-epoch.pt'))\n",
    "model = model.to('cuda:0')"
   ]
  },
  {
   "cell_type": "code",
   "execution_count": 22,
   "metadata": {
    "execution": {
     "iopub.execute_input": "2023-11-03T18:17:21.587122Z",
     "iopub.status.busy": "2023-11-03T18:17:21.586720Z",
     "iopub.status.idle": "2023-11-03T18:17:21.833653Z",
     "shell.execute_reply": "2023-11-03T18:17:21.832729Z",
     "shell.execute_reply.started": "2023-11-03T18:17:21.587090Z"
    }
   },
   "outputs": [],
   "source": [
    "model = torch.load('/kaggle/working/checkpoints/model-7-epoch.pt')\n",
    "model = model.to('cuda:0')"
   ]
  },
  {
   "cell_type": "code",
   "execution_count": 26,
   "metadata": {
    "execution": {
     "iopub.execute_input": "2023-11-03T18:18:29.472102Z",
     "iopub.status.busy": "2023-11-03T18:18:29.471196Z",
     "iopub.status.idle": "2023-11-03T18:18:29.477225Z",
     "shell.execute_reply": "2023-11-03T18:18:29.476151Z",
     "shell.execute_reply.started": "2023-11-03T18:18:29.472066Z"
    }
   },
   "outputs": [],
   "source": [
    "test_dataloader = DataLoader(\n",
    "    test_dataset,\n",
    "    batch_size=TEST_BATCH_SIZE,\n",
    "    generator=torch.manual_seed(RANDOM_STATE),\n",
    "    shuffle=False,\n",
    ")"
   ]
  },
  {
   "cell_type": "code",
   "execution_count": 28,
   "metadata": {
    "execution": {
     "iopub.execute_input": "2023-11-03T18:18:44.952027Z",
     "iopub.status.busy": "2023-11-03T18:18:44.951651Z",
     "iopub.status.idle": "2023-11-03T18:31:16.879645Z",
     "shell.execute_reply": "2023-11-03T18:31:16.878681Z",
     "shell.execute_reply.started": "2023-11-03T18:18:44.951996Z"
    }
   },
   "outputs": [
    {
     "name": "stderr",
     "output_type": "stream",
     "text": [
      "TEST: 100%|██████████| 433/433 [12:31<00:00,  1.74s/it]\n"
     ]
    }
   ],
   "source": [
    "pred_labels_list = []\n",
    "true_labels_list = []\n",
    "hashes = []\n",
    "\n",
    "model.eval()\n",
    "with torch.inference_mode():\n",
    "    for batch in tqdm(test_dataloader, 'TEST'):\n",
    "        labels = batch['labels']\n",
    "        batch_hashes = batch['hash']\n",
    "        del batch['labels']\n",
    "        del batch['hash']\n",
    "        batch = {key: value.to('cuda:0') for key, value in batch.items()}\n",
    "\n",
    "        logits = model(**batch)\n",
    "\n",
    "        pred_labels_list.extend(logits.detach().cpu().argmax(-1).tolist())\n",
    "        true_labels_list.extend(labels.tolist())\n",
    "        hashes.extend(batch_hashes)"
   ]
  },
  {
   "cell_type": "code",
   "execution_count": 29,
   "metadata": {
    "execution": {
     "iopub.execute_input": "2023-11-03T18:31:18.477201Z",
     "iopub.status.busy": "2023-11-03T18:31:18.476260Z",
     "iopub.status.idle": "2023-11-03T18:31:18.484026Z",
     "shell.execute_reply": "2023-11-03T18:31:18.483069Z",
     "shell.execute_reply.started": "2023-11-03T18:31:18.477166Z"
    }
   },
   "outputs": [],
   "source": [
    "df_result = pd.DataFrame(\n",
    "    {\n",
    "        'HASH': hashes,\n",
    "        'LABEL': true_labels_list,\n",
    "        'PRED': pred_labels_list,\n",
    "    }\n",
    ")"
   ]
  },
  {
   "cell_type": "code",
   "execution_count": 30,
   "metadata": {
    "execution": {
     "iopub.execute_input": "2023-11-03T18:31:20.881526Z",
     "iopub.status.busy": "2023-11-03T18:31:20.881146Z",
     "iopub.status.idle": "2023-11-03T18:31:20.901299Z",
     "shell.execute_reply": "2023-11-03T18:31:20.900248Z",
     "shell.execute_reply.started": "2023-11-03T18:31:20.881494Z"
    }
   },
   "outputs": [],
   "source": [
    "df_filtered = df_result.groupby(by='HASH').max()"
   ]
  },
  {
   "cell_type": "code",
   "execution_count": 31,
   "metadata": {
    "execution": {
     "iopub.execute_input": "2023-11-03T18:31:22.568661Z",
     "iopub.status.busy": "2023-11-03T18:31:22.567700Z",
     "iopub.status.idle": "2023-11-03T18:31:22.588212Z",
     "shell.execute_reply": "2023-11-03T18:31:22.587181Z",
     "shell.execute_reply.started": "2023-11-03T18:31:22.568624Z"
    }
   },
   "outputs": [
    {
     "name": "stdout",
     "output_type": "stream",
     "text": [
      "              precision    recall  f1-score   support\n",
      "\n",
      "           0       0.97      0.93      0.95       224\n",
      "           1       0.98      0.99      0.99      1001\n",
      "\n",
      "    accuracy                           0.98      1225\n",
      "   macro avg       0.98      0.96      0.97      1225\n",
      "weighted avg       0.98      0.98      0.98      1225\n",
      "\n"
     ]
    }
   ],
   "source": [
    "print(classification_report(df_filtered.LABEL.to_numpy(), df_filtered.PRED.to_numpy()))"
   ]
  },
  {
   "cell_type": "code",
   "execution_count": 32,
   "metadata": {
    "execution": {
     "iopub.execute_input": "2023-11-03T18:31:34.213854Z",
     "iopub.status.busy": "2023-11-03T18:31:34.213120Z",
     "iopub.status.idle": "2023-11-03T18:31:34.223669Z",
     "shell.execute_reply": "2023-11-03T18:31:34.222667Z",
     "shell.execute_reply.started": "2023-11-03T18:31:34.213817Z"
    }
   },
   "outputs": [
    {
     "data": {
      "text/plain": [
       "0.9820408163265306"
      ]
     },
     "execution_count": 32,
     "metadata": {},
     "output_type": "execute_result"
    }
   ],
   "source": [
    "accuracy_score(df_filtered.LABEL.to_numpy(), df_filtered.PRED.to_numpy())"
   ]
  },
  {
   "cell_type": "code",
   "execution_count": 33,
   "metadata": {
    "execution": {
     "iopub.execute_input": "2023-11-03T18:31:35.203777Z",
     "iopub.status.busy": "2023-11-03T18:31:35.203047Z",
     "iopub.status.idle": "2023-11-03T18:31:35.214343Z",
     "shell.execute_reply": "2023-11-03T18:31:35.213211Z",
     "shell.execute_reply.started": "2023-11-03T18:31:35.203745Z"
    }
   },
   "outputs": [
    {
     "data": {
      "text/plain": [
       "0.989065606361829"
      ]
     },
     "execution_count": 33,
     "metadata": {},
     "output_type": "execute_result"
    }
   ],
   "source": [
    "f1_score(df_filtered.LABEL.to_numpy(), df_filtered.PRED.to_numpy())"
   ]
  },
  {
   "cell_type": "code",
   "execution_count": 34,
   "metadata": {
    "execution": {
     "iopub.execute_input": "2023-11-03T18:31:36.706934Z",
     "iopub.status.busy": "2023-11-03T18:31:36.706320Z",
     "iopub.status.idle": "2023-11-03T18:31:36.717520Z",
     "shell.execute_reply": "2023-11-03T18:31:36.716525Z",
     "shell.execute_reply.started": "2023-11-03T18:31:36.706823Z"
    }
   },
   "outputs": [],
   "source": [
    "cm = confusion_matrix(df_filtered.LABEL.to_numpy(), df_filtered.PRED.to_numpy())\n",
    "disp = ConfusionMatrixDisplay(confusion_matrix=cm)"
   ]
  },
  {
   "cell_type": "code",
   "execution_count": 35,
   "metadata": {
    "execution": {
     "iopub.execute_input": "2023-11-03T18:31:36.984109Z",
     "iopub.status.busy": "2023-11-03T18:31:36.983734Z",
     "iopub.status.idle": "2023-11-03T18:31:37.311459Z",
     "shell.execute_reply": "2023-11-03T18:31:37.310481Z",
     "shell.execute_reply.started": "2023-11-03T18:31:36.984077Z"
    }
   },
   "outputs": [
    {
     "data": {
      "text/plain": [
       "<sklearn.metrics._plot.confusion_matrix.ConfusionMatrixDisplay at 0x78e0273a70a0>"
      ]
     },
     "execution_count": 35,
     "metadata": {},
     "output_type": "execute_result"
    },
    {
     "data": {
      "image/png": "[encoded data removed]",
      "text/plain": [
       "<Figure size 640x480 with 2 Axes>"
      ]
     },
     "metadata": {},
     "output_type": "display_data"
    }
   ],
   "source": [
    "disp.plot()"
   ]
  },
  {
   "cell_type": "code",
   "execution_count": 36,
   "metadata": {
    "execution": {
     "iopub.execute_input": "2023-11-03T18:35:07.292591Z",
     "iopub.status.busy": "2023-11-03T18:35:07.292169Z",
     "iopub.status.idle": "2023-11-03T18:35:07.719301Z",
     "shell.execute_reply": "2023-11-03T18:35:07.718523Z",
     "shell.execute_reply.started": "2023-11-03T18:35:07.292563Z"
    }
   },
   "outputs": [],
   "source": [
    "torch.save(model.state_dict(), '/kaggle/working/pytorch_model.bin')"
   ]
  },
  {
   "cell_type": "code",
   "execution_count": null,
   "metadata": {},
   "outputs": [],
   "source": []
  }
 ],
 "metadata": {
  "kernelspec": {
   "display_name": "Python 3 (ipykernel)",
   "language": "python",
   "name": "python3"
  },
  "language_info": {
   "codemirror_mode": {
    "name": "ipython",
    "version": 3
   },
   "file_extension": ".py",
   "mimetype": "text/x-python",
   "name": "python",
   "nbconvert_exporter": "python",
   "pygments_lexer": "ipython3",
   "version": "3.9.16"
  }
 },
 "nbformat": 4,
 "nbformat_minor": 4
}
